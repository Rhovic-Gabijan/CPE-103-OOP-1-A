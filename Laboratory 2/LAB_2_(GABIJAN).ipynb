{
  "nbformat": 4,
  "nbformat_minor": 0,
  "metadata": {
    "colab": {
      "provenance": [],
      "authorship_tag": "ABX9TyNrVCu1rK9BxEaCRViSGBo5",
      "include_colab_link": true
    },
    "kernelspec": {
      "name": "python3",
      "display_name": "Python 3"
    },
    "language_info": {
      "name": "python"
    }
  },
  "cells": [
    {
      "cell_type": "markdown",
      "metadata": {
        "id": "view-in-github",
        "colab_type": "text"
      },
      "source": [
        "<a href=\"https://colab.research.google.com/github/Rhovic-Gabijan/CPE-103-OOP-1-A/blob/main/LAB_2_(GABIJAN).ipynb\" target=\"_parent\"><img src=\"https://colab.research.google.com/assets/colab-badge.svg\" alt=\"Open In Colab\"/></a>"
      ]
    },
    {
      "cell_type": "markdown",
      "source": [
        "Assigning Variables of Different Data Types in Python"
      ],
      "metadata": {
        "id": "ZoYAt8U2-aVa"
      }
    },
    {
      "cell_type": "code",
      "source": [
        "a = 5\n",
        "print(a)\n",
        "type(value)"
      ],
      "metadata": {
        "colab": {
          "base_uri": "https://localhost:8080/"
        },
        "id": "wZ47biBOAu_B",
        "outputId": "a7da64f7-9cc4-4a01-d63f-3bf0dbcc9b8b"
      },
      "execution_count": null,
      "outputs": [
        {
          "output_type": "stream",
          "name": "stdout",
          "text": [
            "5\n"
          ]
        },
        {
          "output_type": "execute_result",
          "data": {
            "text/plain": [
              "int"
            ]
          },
          "metadata": {},
          "execution_count": 14
        }
      ]
    },
    {
      "cell_type": "code",
      "source": [
        "print(\"2+3j\")"
      ],
      "metadata": {
        "colab": {
          "base_uri": "https://localhost:8080/"
        },
        "id": "XRIcH7wUBxbL",
        "outputId": "9af9841a-8c09-482b-c7a3-3e0f43632eb1"
      },
      "execution_count": null,
      "outputs": [
        {
          "output_type": "stream",
          "name": "stdout",
          "text": [
            "2+3j\n"
          ]
        }
      ]
    },
    {
      "cell_type": "code",
      "source": [
        "print('Hello World')\n",
        "print(\"Hello World\")"
      ],
      "metadata": {
        "colab": {
          "base_uri": "https://localhost:8080/"
        },
        "id": "1KN554SiCJob",
        "outputId": "cca5fd87-842f-436c-b81e-da0cb10ac9fc"
      },
      "execution_count": null,
      "outputs": [
        {
          "output_type": "stream",
          "name": "stdout",
          "text": [
            "Hello World\n"
          ]
        }
      ]
    },
    {
      "cell_type": "code",
      "source": [
        "a = 5\n",
        "b = 5\n",
        "\n",
        "if a==b:\n",
        "  print(\"True\")"
      ],
      "metadata": {
        "colab": {
          "base_uri": "https://localhost:8080/"
        },
        "id": "V20pKWIfCPvj",
        "outputId": "17369612-4fb1-440b-934a-f56c3f2646e4"
      },
      "execution_count": null,
      "outputs": [
        {
          "output_type": "stream",
          "name": "stdout",
          "text": [
            "True\n"
          ]
        }
      ]
    },
    {
      "cell_type": "code",
      "source": [
        "value = False\n",
        "\n",
        "print(value)"
      ],
      "metadata": {
        "colab": {
          "base_uri": "https://localhost:8080/"
        },
        "id": "922qmIx-CzQ6",
        "outputId": "666e0ee3-f7a0-4dbb-aa65-83f67758b739"
      },
      "execution_count": null,
      "outputs": [
        {
          "output_type": "stream",
          "name": "stdout",
          "text": [
            "False\n"
          ]
        }
      ]
    },
    {
      "cell_type": "code",
      "source": [
        "a,b,c,d,e = 1,2,3,4,5\n",
        "\n",
        "print(\"[\",a,b,c,d,e,\"]\")"
      ],
      "metadata": {
        "colab": {
          "base_uri": "https://localhost:8080/"
        },
        "id": "ilPpne-1Do7b",
        "outputId": "4144fa30-138b-4ff7-b5ec-49a9a1b6315a"
      },
      "execution_count": null,
      "outputs": [
        {
          "output_type": "stream",
          "name": "stdout",
          "text": [
            "[ 1 2 3 4 5 ]\n"
          ]
        }
      ]
    },
    {
      "cell_type": "code",
      "source": [
        "q,w,e,r,t = 1,2,3,4,5\n",
        "print(\"(\",q,w,e,r,t, \")\")"
      ],
      "metadata": {
        "colab": {
          "base_uri": "https://localhost:8080/"
        },
        "id": "1Zq7v3Y5D8K7",
        "outputId": "4e43896c-cc47-4021-9708-83876f804c43"
      },
      "execution_count": null,
      "outputs": [
        {
          "output_type": "stream",
          "name": "stdout",
          "text": [
            "( 1 2 3 4 5 )\n"
          ]
        }
      ]
    },
    {
      "cell_type": "code",
      "source": [
        "name = input()\n",
        "print(\"name: \", name)\n"
      ],
      "metadata": {
        "colab": {
          "base_uri": "https://localhost:8080/"
        },
        "id": "HOyUJvsAEax7",
        "outputId": "e4b659fa-6a94-411e-b505-79e85a4e8ba6"
      },
      "execution_count": null,
      "outputs": [
        {
          "output_type": "stream",
          "name": "stdout",
          "text": [
            "Rhovic M. Gabijan\n",
            "name:  Rhovic M. Gabijan\n"
          ]
        }
      ]
    },
    {
      "cell_type": "code",
      "source": [
        "print(\"None\")"
      ],
      "metadata": {
        "colab": {
          "base_uri": "https://localhost:8080/"
        },
        "id": "F177sCqsE6x7",
        "outputId": "88f65d28-4ee2-43c2-af07-70f955c06d44"
      },
      "execution_count": null,
      "outputs": [
        {
          "output_type": "stream",
          "name": "stdout",
          "text": [
            "None\n"
          ]
        }
      ]
    },
    {
      "cell_type": "markdown",
      "source": [
        "Performing Operations with Python"
      ],
      "metadata": {
        "id": "uNqdGyJeFYKb"
      }
    },
    {
      "cell_type": "code",
      "source": [
        "value1, value2 = 30, 4\n",
        "print(value1*value2)\n",
        "print(value2**2)\n",
        "print(value2**3)\n",
        "print(value1*value2+value2**2+1)\n",
        "print(value1/value2)\n",
        "print(value1%value2)"
      ],
      "metadata": {
        "colab": {
          "base_uri": "https://localhost:8080/"
        },
        "id": "S1nI7IxFFcGi",
        "outputId": "2a62c7b0-62c1-4b79-c552-03df156c5102"
      },
      "execution_count": null,
      "outputs": [
        {
          "output_type": "stream",
          "name": "stdout",
          "text": [
            "120\n",
            "16\n",
            "64\n",
            "137\n",
            "7.5\n",
            "2\n"
          ]
        }
      ]
    },
    {
      "cell_type": "markdown",
      "source": [
        "Receiving Input Data using Python"
      ],
      "metadata": {
        "id": "IlBSlc46GglL"
      }
    },
    {
      "cell_type": "code",
      "source": [
        "name = input(\"Enter your name: \")"
      ],
      "metadata": {
        "colab": {
          "base_uri": "https://localhost:8080/"
        },
        "id": "krPCa5J8Go5q",
        "outputId": "404f7883-f482-459f-d3ff-1eae3420cc56"
      },
      "execution_count": null,
      "outputs": [
        {
          "name": "stdout",
          "output_type": "stream",
          "text": [
            "Enter your name: Rhovic Gabijan\n"
          ]
        }
      ]
    },
    {
      "cell_type": "markdown",
      "source": [
        "Assigning Input Data to a Variable"
      ],
      "metadata": {
        "id": "qoBdW4WjHUss"
      }
    },
    {
      "cell_type": "code",
      "source": [
        "name = input(\"Enter you name \")\n",
        "weight = float(input(\"Enter your weight(kg): \"))\n",
        "height = float(input(\"Enter your meters(m): \"))\n",
        "bmi = float(weight)/float(height**2)\n",
        "\n",
        "print(\"BMI =\", bmi)"
      ],
      "metadata": {
        "colab": {
          "base_uri": "https://localhost:8080/"
        },
        "id": "aCQqw-l-HZP6",
        "outputId": "18d704f8-1ab3-49e0-eb5d-b06817d76f18"
      },
      "execution_count": null,
      "outputs": [
        {
          "output_type": "stream",
          "name": "stdout",
          "text": [
            "Enter you name John Ray\n",
            "Enter your weight(kg): 60\n",
            "Enter your meters(m): 1.6764\n",
            "BMI 21.349904958763087\n"
          ]
        }
      ]
    },
    {
      "cell_type": "markdown",
      "source": [
        "Supplementary Activity"
      ],
      "metadata": {
        "id": "H19m60vGJKNM"
      }
    },
    {
      "cell_type": "code",
      "source": [
        "# Number 1\n",
        "base = float(input(\"Enter the base of the Triangle: \"))\n",
        "height = float(input(\"Enter the Height of the Triangle: \"))\n",
        "area = (1/2)*float(base)*float(height)\n",
        "\n",
        "print(\"The Area of a triangle is: \", area)"
      ],
      "metadata": {
        "colab": {
          "base_uri": "https://localhost:8080/"
        },
        "id": "-9ohkrakJNdi",
        "outputId": "d9cad510-c5a3-40ea-9e8d-0e9ed38edb62"
      },
      "execution_count": null,
      "outputs": [
        {
          "output_type": "stream",
          "name": "stdout",
          "text": [
            "Enter the base of the Triangle: 12\n",
            "Enter the Height of the Triangle: 12\n",
            "The Area of a triangle is:  72.0\n"
          ]
        }
      ]
    },
    {
      "cell_type": "code",
      "source": [
        "celcius = float(input(\"Enrter Celsius: \"))\n",
        "farenheit = float(celcius)*(9/5)+32\n",
        "\n",
        "print(\"The Farenheit value is: \", farenheit)"
      ],
      "metadata": {
        "colab": {
          "base_uri": "https://localhost:8080/"
        },
        "id": "JMgYUbuYKbGD",
        "outputId": "40ba7bba-02e0-4e4f-eeef-348f774e38bc"
      },
      "execution_count": null,
      "outputs": [
        {
          "output_type": "stream",
          "name": "stdout",
          "text": [
            "Enrter Celsius: -20\n",
            "The Farenheit value is:  -4.0\n"
          ]
        }
      ]
    },
    {
      "cell_type": "code",
      "source": [
        "x1 = float(input(\"Input x1: \"))\n",
        "x2 = float(input(\"Input x2: \"))\n",
        "y1 = float(input(\"Input y1: \"))\n",
        "y2 = float(input(\"Input y2: \"))\n",
        "\n",
        "d = ((x2-x1)**2+(y2-y1)**2)**0.5\n",
        "\n",
        "print(d)"
      ],
      "metadata": {
        "colab": {
          "base_uri": "https://localhost:8080/"
        },
        "id": "SxHbEe19LldD",
        "outputId": "a4d63c9c-de1e-43fd-d14e-1cb9b2748910"
      },
      "execution_count": null,
      "outputs": [
        {
          "output_type": "stream",
          "name": "stdout",
          "text": [
            "Input x1: 2\n",
            "Input x2: -3\n",
            "Input y1: 2\n",
            "Input y2: 3\n",
            "5.0990195135927845\n"
          ]
        }
      ]
    }
  ]
}