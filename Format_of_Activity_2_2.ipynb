{
  "cells": [
    {
      "cell_type": "markdown",
      "metadata": {
        "id": "view-in-github",
        "colab_type": "text"
      },
      "source": [
        "<a href=\"https://colab.research.google.com/github/Rhovic-Gabijan/CPE-103-OOP-1-A/blob/main/Format_of_Activity_2_2.ipynb\" target=\"_parent\"><img src=\"https://colab.research.google.com/assets/colab-badge.svg\" alt=\"Open In Colab\"/></a>"
      ]
    },
    {
      "cell_type": "markdown",
      "metadata": {
        "id": "xUKw6dtiGo-r"
      },
      "source": [
        "---\n",
        "<center>\n",
        "\n",
        "**University of Caloocan City**<br>\n",
        "Computer Engineering Department<br>\n",
        "Bagong Silang Campus</center>\n",
        "\n",
        "---\n",
        "<center><h4> Lab Activity No. 4 - Literals, Operators, and Variables - Supplementary Activity </h4></center>\n",
        "\n",
        "---\n",
        "<center>\n",
        "\n",
        "| Course: CPE 103 | Program: BSCpE |\n",
        "|--- | --- |\n",
        "| **Course Title**: Object Oriented Programming | **Date Performed:** 02/01/25 |\n",
        "| **Section**: 1-A  | **Date Submitted:** 02/01/25 |\n",
        "| **Student Name**: Gabijan, Rhovic M. | **Instructor's Name:** Engr. Sayo |\n",
        "</center>"
      ]
    },
    {
      "cell_type": "markdown",
      "source": [
        "**Objective/s of the activity:**\n",
        "\n",
        "1.  Implement literals and variables in a python program.\n",
        "\n",
        "**Intended Learning Outcome:**\n",
        "\n",
        "1.   Write a simple program impelmenting literals and variables.\n",
        "2.   User comments and identify keywords from identitifiers created by users.\n",
        "\n",
        "**Discussion:**\n",
        "\n",
        "Disccus the use of varialbes, constants and literals in a python program.\n",
        "\n",
        "**Materials and Equipment:**\n",
        "\n",
        "1.   Python Collab and Github\n",
        "2.   Computer\n",
        "\n",
        "**Procedure:**\n",
        "\n",
        "1.   Create a class of students and define its attributes (self, name, prelim class standing and grades, midterm class standing and grades, and final class standing and grades)\n",
        "2.   create a method of conversion to ucc's equivalent grades (this is were we used if-elif-else statement.\n",
        "3. create loop to allow the user to input 3 students and inputing their hands-on activity, quiz, assignments, and exam\n",
        "4. Try the codes"
      ],
      "metadata": {
        "id": "gNe4D_l5JGiM"
      }
    },
    {
      "cell_type": "code",
      "source": [],
      "metadata": {
        "id": "WORPHnvZKBVE"
      },
      "execution_count": null,
      "outputs": []
    },
    {
      "cell_type": "markdown",
      "source": [
        "**Supplementary Activity**:\n",
        "\n",
        "1.   Test 3 students from the program you created.\n",
        "2.   The program should show the name of the student, the PRELIM, MIDTERM, and FINAL grades.\n",
        "3. Convert the final grade into the UCC's numerical grade. Please refer to the grading system\n"
      ],
      "metadata": {
        "id": "bV8A708BKFuC"
      }
    },
    {
      "cell_type": "code",
      "source": [
        "# Place all the output of the supplementary activity here"
      ],
      "metadata": {
        "id": "X2QfbKrmKOJK"
      },
      "execution_count": null,
      "outputs": []
    },
    {
      "cell_type": "markdown",
      "source": [
        "\n",
        "**Questions**:\n",
        "\n",
        "1.   **What is the difference between using multiple if statement vs. if-elif-else?**  \n",
        "  if-elif-else is a chain that perform only one blocks which is the first one that evaluate to True, while multiple if statement is executed independently if their condition is true.\n",
        "2.   **What is the difference between a variable and a literal in Python?**  \n",
        "  literals in python is a fixed value in the codes,  for example: 10 and “Hello World”. However, a variable is a name that stores a value.\n"
      ],
      "metadata": {
        "id": "0CYvOMNPKNEq"
      }
    },
    {
      "cell_type": "markdown",
      "source": [
        "**Conclusion**:  \n",
        "In conclusions, Python used an interpreter and not compiler which allows it to interpret the code line by line. Literals are the data given by the variables, while variables is the location where data is stored. Additionally, if else statement in python is used for decision-making to allow the program to perform different code of block based on conditions given. It also control the flow of execution by checking if the conditions are true or false. This is useful especially in handling various scenarios."
      ],
      "metadata": {
        "id": "f8oM9wqYKuO1"
      }
    },
    {
      "cell_type": "code",
      "source": [
        "\n",
        "PHOA = float(input(\"Enter Hands-on Activity grade: \"))\n",
        "PQUIZ = float(input(\"Enter Prelim Quiz grade: \"))\n",
        "PAS = float(input(\"Enter Prelim Assignment grade: \"))\n",
        "PCS = PHOA*.5 + PQUIZ*.3 + PAS*.2\n",
        "print(\"Prelim CS is: \", PCS)\n",
        "PEX = float(input(\"Enter Prelim Exam grade: \"))\n",
        "PG = PEX*.5 + PCS*.5\n",
        "print(\"Prelim Grade is: \", \"%.2f\" % PG)\n",
        "\n"
      ],
      "metadata": {
        "colab": {
          "base_uri": "https://localhost:8080/"
        },
        "id": "NHscsOjtxAtB",
        "outputId": "f8169ea3-88a6-43f9-a22b-33207e819029"
      },
      "execution_count": null,
      "outputs": [
        {
          "output_type": "stream",
          "name": "stdout",
          "text": [
            "Enter Hands-on Activity grade: 100\n",
            "Enter Prelim Quiz grade: 85\n",
            "Enter Prelim Assignment grade: 50\n",
            "Prelim CS is:  85.5\n",
            "Enter Prelim Exam grade: 75\n",
            "Prelim Grade is:  80.25\n"
          ]
        }
      ]
    },
    {
      "cell_type": "code",
      "source": [
        "#PCS = Prelim Class Standing\n",
        "# PG = Prelim Grade\n",
        "#MCS = Midterm Class Standing\n",
        "#MG = Midterm Grade\n",
        "class Student:\n",
        "    def __init__(self, name, PCS, PG, MCS, MG, FCS, FG, PHOA, PQUIZ, PAS, PEX, MHOA, MQUIZ, MAS, MEX, FHOA, FQUIZ, FAS, FEX):\n",
        "        self.name = name\n",
        "\n",
        "        self.PCS = (PHOA*0.5) + (PQUIZ*0.3) + (PAS*0.2)\n",
        "        self.PG = (PEX*0.5) + (self.PCS*0.5)\n",
        "\n",
        "        self.MCS = (MHOA*0.5) + (MQUIZ*0.3) + (MAS*0.2)\n",
        "        self.MG = ((1/3)*self.PG) + ((2/3)*((MEX*0.5)+(self.MCS*0.5)))\n",
        "\n",
        "        self.FCS = (FHOA*0.5) + (FQUIZ*0.3) + (FAS*0.2)\n",
        "        self.FG = ((1/3)*self.MG) + ((2/3)*((FEX*0.5)+(self.FCS*0.5)))\n",
        "\n",
        "    def convert_to_uccs_grade(self):\n",
        "        if self.FG >= 97:\n",
        "            return 1.00\n",
        "        elif self.FG >= 94:\n",
        "            return 1.25\n",
        "        elif self.FG >= 91:\n",
        "            return 1.50\n",
        "        elif self.FG >= 88:\n",
        "            return 1.75\n",
        "        elif self.FG >= 85:\n",
        "            return 2.00\n",
        "        elif self.FG >= 82:\n",
        "            return 2.25\n",
        "        elif self.FG >= 79:\n",
        "            return 2.50\n",
        "        elif self.FG >= 76:\n",
        "            return 2.75\n",
        "        elif self.FG >= 60:\n",
        "            return 3.00\n",
        "        elif self.FG >= 50:\n",
        "            return 4.00\n",
        "        elif self.FG >= 40:\n",
        "            return 5.00\n",
        "        else:\n",
        "            return \"Failed\"\n",
        "\n",
        "    def description(self):\n",
        "        print(f\"student: {self.name}\")\n",
        "        print(f\"Prelim Grade: {self.PG}\")\n",
        "        print(f\"Midterm Grade: {self.MG}\")\n",
        "        print(f\"Final Grade: {self.FG}\")\n",
        "        print(f\"Equivalent Grade: {self.convert_to_uccs_grade()}\")\n",
        "        print(\"-\" * 30)\n",
        "\n",
        "students = []\n",
        "n = int(input(\"Enter Number of Students: \"))\n",
        "for x in range(n):\n",
        "    name = input(f\"\\nStudent {x+1} name: \")\n",
        "\n",
        "    PHOA = float(input(\"Enter Prelim Hands-on Activity Grade: \"))\n",
        "    PQUIZ= float(input(\"Enter Prelim Quiz Grade: \"))\n",
        "    PAS = float(input(\"Enter Prelim Assignment Grade: \"))\n",
        "    PEX = float(input(\"Enter Prelim Exam Grade: \"))\n",
        "\n",
        "    MHOA = float(input(\"Midterm Hands-on Activity Grade: \"))\n",
        "    MQUIZ = float(input(\"Midterm Quiz Grade: \"))\n",
        "    MAS = float(input(\"Midterm Assignment Grade: \"))\n",
        "    MEX = float(input(\"Midterm Exam Grade: \"))\n",
        "\n",
        "    FHOA = float(input(\"Final Hands-on Activity Grade: \"))\n",
        "    FQUIZ = float(input(\"Final Quiz Grade: \"))\n",
        "    FAS = float(input(\"Final Assignment Grade: \"))\n",
        "    FEX = float(input(\"Final Exam Grade: \"))\n",
        "\n",
        "\n",
        "    students.append(Student(name, 0, 0, 0, 0, 0, 0, PHOA, PQUIZ, PAS, PEX, MHOA, MQUIZ, MAS, MEX, FHOA, FQUIZ, FAS, FEX))\n",
        "\n",
        "print(\"\\nStudents List:\")\n",
        "for student in students:\n",
        "    student.description()\n"
      ],
      "metadata": {
        "colab": {
          "base_uri": "https://localhost:8080/"
        },
        "id": "gYEWiSBBE3ER",
        "outputId": "6b284bbc-c564-4052-b2cd-e98f727fa21f"
      },
      "execution_count": null,
      "outputs": [
        {
          "output_type": "stream",
          "name": "stdout",
          "text": [
            "Enter Number of Students: 3\n",
            "\n",
            "Student 1 name: Rhovic\n",
            "Enter Prelim Hands-on Activity Grade: 100\n",
            "Enter Prelim Quiz Grade: 85\n",
            "Enter Prelim Assignment Grade: 100\n",
            "Enter Prelim Exam Grade: 78\n",
            "Midterm Hands-on Activity Grade: 100\n",
            "Midterm Quiz Grade: 95\n",
            "Midterm Assignment Grade: 100\n",
            "Midterm Exam Grade: 88\n",
            "Final Hands-on Activity Grade: 100\n",
            "Final Quiz Grade: 87\n",
            "Final Assignment Grade: 99\n",
            "Final Exam Grade: 94\n",
            "\n",
            "Student 2 name: Gabijan\n",
            "Enter Prelim Hands-on Activity Grade: 100\n",
            "Enter Prelim Quiz Grade: 80\n",
            "Enter Prelim Assignment Grade: 100\n",
            "Enter Prelim Exam Grade: 87\n",
            "Midterm Hands-on Activity Grade: 100\n",
            "Midterm Quiz Grade: 89\n",
            "Midterm Assignment Grade: 100\n",
            "Midterm Exam Grade: 88\n",
            "Final Hands-on Activity Grade: 100\n",
            "Final Quiz Grade: 90\n",
            "Final Assignment Grade: 100\n",
            "Final Exam Grade: 97\n",
            "\n",
            "Student 3 name: Less\n",
            "Enter Prelim Hands-on Activity Grade: 100\n",
            "Enter Prelim Quiz Grade: 99\n",
            "Enter Prelim Assignment Grade: 100\n",
            "Enter Prelim Exam Grade: 93\n",
            "Midterm Hands-on Activity Grade: 100\n",
            "Midterm Quiz Grade: 96\n",
            "Midterm Assignment Grade: 100\n",
            "Midterm Exam Grade: 97\n",
            "Final Hands-on Activity Grade: 100\n",
            "Final Quiz Grade: 94\n",
            "Final Assignment Grade: 100\n",
            "Final Exam Grade: 98\n",
            "\n",
            "Students List:\n",
            "student: Rhovic\n",
            "Prelim Grade: 86.75\n",
            "Midterm Grade: 91.08333333333333\n",
            "Final Grade: 93.6611111111111\n",
            "Equivalent Grade: 1.5\n",
            "------------------------------\n",
            "student: Gabijan\n",
            "Prelim Grade: 90.5\n",
            "Midterm Grade: 91.73333333333332\n",
            "Final Grade: 95.24444444444443\n",
            "Equivalent Grade: 1.25\n",
            "------------------------------\n",
            "student: Less\n",
            "Prelim Grade: 96.35\n",
            "Midterm Grade: 97.38333333333333\n",
            "Final Grade: 97.8611111111111\n",
            "Equivalent Grade: 1.0\n",
            "------------------------------\n"
          ]
        }
      ]
    }
  ],
  "metadata": {
    "kernelspec": {
      "display_name": "Python 3",
      "language": "python",
      "name": "python3"
    },
    "language_info": {
      "codemirror_mode": {
        "name": "ipython",
        "version": 3
      },
      "file_extension": ".py",
      "mimetype": "text/x-python",
      "name": "python",
      "nbconvert_exporter": "python",
      "pygments_lexer": "ipython3",
      "version": "3.7.3"
    },
    "colab": {
      "provenance": [],
      "include_colab_link": true
    }
  },
  "nbformat": 4,
  "nbformat_minor": 0
}