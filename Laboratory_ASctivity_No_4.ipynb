{
  "nbformat": 4,
  "nbformat_minor": 0,
  "metadata": {
    "colab": {
      "provenance": [],
      "authorship_tag": "ABX9TyO1v26vhR0sUbrYFH5KEe1C",
      "include_colab_link": true
    },
    "kernelspec": {
      "name": "python3",
      "display_name": "Python 3"
    },
    "language_info": {
      "name": "python"
    }
  },
  "cells": [
    {
      "cell_type": "markdown",
      "metadata": {
        "id": "view-in-github",
        "colab_type": "text"
      },
      "source": [
        "<a href=\"https://colab.research.google.com/github/Rhovic-Gabijan/CPE-103-OOP-1-A/blob/main/Laboratory_ASctivity_No_4.ipynb\" target=\"_parent\"><img src=\"https://colab.research.google.com/assets/colab-badge.svg\" alt=\"Open In Colab\"/></a>"
      ]
    },
    {
      "cell_type": "markdown",
      "source": [
        "SEQUENCE AND MAPPING TYPES"
      ],
      "metadata": {
        "id": "EMpX4dGtJL-s"
      }
    },
    {
      "cell_type": "code",
      "source": [
        "numberlist = [5,4,2,1,3]\n",
        "\n",
        "print(len(numberlist))\n",
        "print(numberlist[0])\n",
        "print(numberlist[1])\n",
        "print(numberlist[2])\n",
        "print(numberlist[3])\n",
        "print(numberlist[4])\n",
        "#print(numberlist[5]) is not assigned\n",
        "print(numberlist[-1])\n",
        "print(numberlist[-2])\n",
        "print(numberlist[-3])\n",
        "print(numberlist[-4])\n",
        "print(numberlist[-5])\n",
        "#print(numberlist[-6]) is not assigned also"
      ],
      "metadata": {
        "colab": {
          "base_uri": "https://localhost:8080/"
        },
        "id": "LV5MwLBaLiTi",
        "outputId": "49d19425-705c-4c5a-da3c-be0319a33586"
      },
      "execution_count": 12,
      "outputs": [
        {
          "output_type": "stream",
          "name": "stdout",
          "text": [
            "5\n",
            "5\n",
            "4\n",
            "2\n",
            "1\n",
            "3\n",
            "3\n",
            "1\n",
            "2\n",
            "4\n",
            "5\n"
          ]
        }
      ]
    },
    {
      "cell_type": "code",
      "source": [
        "itemlist = [1,-2,0,[1,2,3], \"Word\"]\n",
        "\n",
        "print(len(itemlist))\n",
        "print(itemlist[0])\n",
        "print(itemlist[1])\n",
        "print(itemlist[2])\n",
        "print(itemlist[3])\n",
        "#print(len(itemlist[2])) is used to determine the number of items in the list\n",
        "print(itemlist[2:0])\n",
        "print(itemlist[2:1])\n",
        "print(itemlist[2:2])\n",
        "print(itemlist[-1])\n",
        "print(itemlist[-2])\n",
        "print(itemlist[-3])\n",
        "print(itemlist[-4])\n",
        "#print(len(itemlist[-2])) just like the codes in the first print\n",
        "print(itemlist[-2:0])\n",
        "print(itemlist[-2:1])\n",
        "print(itemlist[-2:2])\n",
        "print(itemlist[-2:-3])\n",
        "print(itemlist[-2:-3])\n",
        "print(itemlist[-2:-2])\n",
        "print(itemlist[-2:-1])"
      ],
      "metadata": {
        "colab": {
          "base_uri": "https://localhost:8080/"
        },
        "id": "nCgPw1wbNo-c",
        "outputId": "576ab0ea-4d7e-4ca5-f653-f8c9fe58cb9e"
      },
      "execution_count": 17,
      "outputs": [
        {
          "output_type": "stream",
          "name": "stdout",
          "text": [
            "5\n",
            "1\n",
            "-2\n",
            "0\n",
            "[1, 2, 3]\n",
            "[]\n",
            "[]\n",
            "[]\n",
            "Word\n",
            "[1, 2, 3]\n",
            "0\n",
            "-2\n",
            "[]\n",
            "[]\n",
            "[]\n",
            "[]\n",
            "[]\n",
            "[]\n",
            "[[1, 2, 3]]\n"
          ]
        }
      ]
    }
  ]
}