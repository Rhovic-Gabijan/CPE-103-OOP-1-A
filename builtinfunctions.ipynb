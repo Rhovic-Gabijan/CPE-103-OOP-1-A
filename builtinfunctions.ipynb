{
  "nbformat": 4,
  "nbformat_minor": 0,
  "metadata": {
    "colab": {
      "provenance": [],
      "authorship_tag": "ABX9TyPc1H+m1wjsr4GTaYgElamm",
      "include_colab_link": true
    },
    "kernelspec": {
      "name": "python3",
      "display_name": "Python 3"
    },
    "language_info": {
      "name": "python"
    }
  },
  "cells": [
    {
      "cell_type": "markdown",
      "metadata": {
        "id": "view-in-github",
        "colab_type": "text"
      },
      "source": [
        "<a href=\"https://colab.research.google.com/github/Rhovic-Gabijan/CPE-103-OOP-1-A/blob/main/builtinfunctions.ipynb\" target=\"_parent\"><img src=\"https://colab.research.google.com/assets/colab-badge.svg\" alt=\"Open In Colab\"/></a>"
      ]
    },
    {
      "cell_type": "code",
      "source": [
        "print(\"Propositional logic evaluator for discrete math\")\n",
        "variables = int(input(\"How many variables? \"))\n",
        "total_combinations = 2**variables\n",
        "\n",
        "combinations_list = []\n",
        "\n",
        "for i in range(total_combinations):\n",
        "  bin_equivalent = bin(i)[2:]\n",
        "  while len(bin_equivalent) < variables:\n",
        "    bin_equivalent = \"0\" + bin_equivalent\n",
        "  combinations_list.append(tuple(int(val) for val in bin_equivalent))\n",
        "\n",
        "expression = input(\"Enter the propositional logic expression: \")\n",
        "if variables == 2:\n",
        "  print(\"A B F\")\n",
        "  for A,B in combinations_list:\n",
        "    evaluated_expression = eval(expression)\n",
        "    print(A,B, evaluated_expression)\n",
        "elif variables == 3:\n",
        "  print(\"A B C F\")\n",
        "  for A,B,C in combinations_list:\n",
        "    evaluated_expression = eval(expression)\n",
        "    print(A,B,C, evaluated_expression)"
      ],
      "metadata": {
        "colab": {
          "base_uri": "https://localhost:8080/"
        },
        "id": "RDW4RbbRgwpX",
        "outputId": "1ae800bf-c522-4d47-d09e-8c79df0f08e2"
      },
      "execution_count": null,
      "outputs": [
        {
          "output_type": "stream",
          "name": "stdout",
          "text": [
            "Propositional logic evaluator for discrete math\n",
            "How many variables? 2\n",
            "Enter the propositional logic expression: 2\n",
            "A B F\n",
            "0 0 2\n",
            "0 1 2\n",
            "1 0 2\n",
            "1 1 2\n"
          ]
        }
      ]
    },
    {
      "cell_type": "markdown",
      "source": [
        "File Handling"
      ],
      "metadata": {
        "id": "7Gghs5B9Ta_R"
      }
    },
    {
      "cell_type": "code",
      "source": [
        "name = \"Royce Chua\"\n",
        "file = open(\"newfile1.txt\", 'w')\n",
        "file.write(f\"Hello, {name}!\\n\")\n",
        "file.write(\"Isn't this amazing!\\n\")\n",
        "file.write(\"that we can create and write on text files\\n\")\n",
        "file.write(\"using Python.\")\n",
        "file.close()\n",
        "\n",
        "#file = open(\"new.txt\", \"r\") this is an error since new.txt is not define in the program\n",
        "file = open(\"newfile1.txt\", 'r') #this the modified program\n",
        "data = file.read()\n",
        "print(data)\n",
        "\n",
        "\n",
        "file = open(\"newfile2.txt\", 'w')\n",
        "file.write(\"This message was created using Python!\\n\")\n",
        "file.close()\n",
        "\n",
        "file = open(\"newfile2.txt\", 'a')\n",
        "file.write(\"and also by the programmer of course. \")\n",
        "file.close()\n",
        "\n",
        "file = open(\"newfile2.txt\", 'r')\n",
        "data = file.read()\n",
        "print(data)\n",
        "\n"
      ],
      "metadata": {
        "id": "_I-Q1n9PTeME",
        "colab": {
          "base_uri": "https://localhost:8080/"
        },
        "outputId": "478e6c43-2688-4cd9-d74e-df0031d12c66"
      },
      "execution_count": null,
      "outputs": [
        {
          "output_type": "stream",
          "name": "stdout",
          "text": [
            "Hello, Royce Chua!\n",
            "Isn't this amazing!\n",
            "that we can create and write on text files\n",
            "using Python.\n",
            "This message was created using Python!\n",
            "and also by the programmer of course. \n"
          ]
        }
      ]
    },
    {
      "cell_type": "markdown",
      "source": [
        "User-Defined Functions"
      ],
      "metadata": {
        "id": "nvup8ralcDuC"
      }
    },
    {
      "cell_type": "code",
      "source": [
        "# truth tablegenerator.py\n",
        "\n",
        "def generate_truthtable(number_of_variables=0):\n",
        "  if number_of_variables == 0:\n",
        "    return \"You need to enter integer\"\n",
        "  else:\n",
        "    total_combinations = 2**number_of_variables\n",
        "    combinations_list = []\n",
        "    for i in range(total_combinations):\n",
        "        bin_equivalent = bin(i)[2:]\n",
        "        while len(bin_equivalent) < number_of_variables:\n",
        "            bin_equivalent = \"0\"+bin_equivalent\n",
        "        combinations_list.append(tuple(int(val) for val in bin_equivalent))\n",
        "  return combinations_list\n",
        "\n",
        "def evaluate_propositional_logic(expression, variables):\n",
        "  expression = input(\"Enter the propositional logic expression: \")\n",
        "\n",
        "  if variables == 2:\n",
        "    print(\"A B F\")\n",
        "    for A,B in combinations_list:\n",
        "      evaluated_expression = eval(expression)\n",
        "      print(A,B, evaluated_expression)\n",
        "  elif variables == 3:\n",
        "    print(\"A B C F\")\n",
        "    for A,B,C in combinations_list:\n",
        "      evaluated_expression = eval(expression)\n",
        "      print(A,B,C, evaluated_expression)\n",
        "\n",
        "  evaluate_propositional_logic(generate_truthtable(3))"
      ],
      "metadata": {
        "id": "RRtqNX7Hcb3C"
      },
      "execution_count": null,
      "outputs": []
    },
    {
      "cell_type": "markdown",
      "source": [
        "Built-in Modules"
      ],
      "metadata": {
        "id": "avZYVmCRbfEG"
      }
    },
    {
      "cell_type": "code",
      "source": [
        "# Modules 1\n",
        "import math\n",
        "\n",
        "def quadratic_formula(a,c,b):\n",
        "  if b**2-(4*a*c)<0:\n",
        "    x1 = (complex(-b, math.floor(math.sqrt(abs(b**2-(4*a*c))))))/2*a\n",
        "    x2 = (complex(-b, -1*math.floor(math.sqrt(abs(b**2-(4*a*c))))))/2*a\n",
        "    return x1, x2\n",
        "  else:\n",
        "    x1 = (-b+math.sqrt(b**2-(4*a*c)))/(2*a)\n",
        "    x2 = (-b+math.sqrt(b**2-(4*a*c)))/(2*a)\n",
        "\n",
        "print(quadratic_formula(1,2,3))"
      ],
      "metadata": {
        "colab": {
          "base_uri": "https://localhost:8080/"
        },
        "id": "FmXUfh7HbkBw",
        "outputId": "a7a5d07e-eae0-47f5-8095-3eafebee2360"
      },
      "execution_count": null,
      "outputs": [
        {
          "output_type": "stream",
          "name": "stdout",
          "text": [
            "None\n"
          ]
        }
      ]
    },
    {
      "cell_type": "markdown",
      "source": [
        "Mathmodule2"
      ],
      "metadata": {
        "id": "mCkotGegc-x1"
      }
    },
    {
      "cell_type": "code",
      "source": [
        "import math\n",
        "\n",
        "def angle_demo():\n",
        "  angle = math.sin(math.pi/2)\n",
        "\n",
        "  print(angle)\n",
        "\n",
        "  angle = math.sin(math.radians(90))\n",
        "  print(angle)\n",
        "\n",
        "angle_demo()"
      ],
      "metadata": {
        "colab": {
          "base_uri": "https://localhost:8080/"
        },
        "id": "oWb8lr36dDv5",
        "outputId": "f67ff085-4de2-4e92-8194-a04e8a656764"
      },
      "execution_count": null,
      "outputs": [
        {
          "output_type": "stream",
          "name": "stdout",
          "text": [
            "1.0\n",
            "1.0\n"
          ]
        }
      ]
    },
    {
      "cell_type": "markdown",
      "source": [
        "Time and Datetime Module"
      ],
      "metadata": {
        "id": "14UpVJPfdjmt"
      }
    },
    {
      "cell_type": "code",
      "source": [
        "#dateandtime.py\n",
        "import time\n",
        "\n",
        "def pause():\n",
        "  for i in range(10,0,-1):\n",
        "    print(f\"The program will end in {i}..\")\n",
        "    time.sleep(1)\n",
        "\n",
        "pause()\n",
        "\n",
        "\n",
        "def current_time():\n",
        "  t = time.strftime(\"%I:%M %p\")\n",
        "  return t\n",
        "\n",
        "print(current_time())\n",
        "\n",
        "def current_date():\n",
        "  d = time.strftime(\"%b %d %y\")\n",
        "  return d\n",
        "\n",
        "print(current_date())\n"
      ],
      "metadata": {
        "colab": {
          "base_uri": "https://localhost:8080/"
        },
        "id": "Jf2IKL60dnSK",
        "outputId": "506bf4ed-a2a6-4ae7-8ed3-88fa5cfeba01"
      },
      "execution_count": null,
      "outputs": [
        {
          "output_type": "stream",
          "name": "stdout",
          "text": [
            "The program will end in 10..\n",
            "The program will end in 9..\n",
            "The program will end in 8..\n",
            "The program will end in 7..\n",
            "The program will end in 6..\n",
            "The program will end in 5..\n",
            "The program will end in 4..\n",
            "The program will end in 3..\n",
            "The program will end in 2..\n",
            "The program will end in 1..\n",
            "11:49 AM\n",
            "Feb 22 25\n"
          ]
        }
      ]
    },
    {
      "cell_type": "markdown",
      "source": [
        "User-defined Modules"
      ],
      "metadata": {
        "id": "QUvZFUq9ers_"
      }
    },
    {
      "cell_type": "code",
      "source": [
        "#dateandtime.py\n",
        "import time\n",
        "\n",
        "def pause():\n",
        "  for i in range(10,0,-1):\n",
        "    print(f\"The program will end in {i}..\")\n",
        "    time.sleep(1)\n",
        "\n",
        "#pause()\n",
        "\n",
        "def current_time():\n",
        "  t = time.strftime(\"%I:%M %p\")\n",
        "  return t\n",
        "\n",
        "#print(current_time())\n",
        "\n",
        "def current_date():\n",
        "  d = time.strftime(\"%b %d %y\")\n",
        "  return d\n",
        "\n",
        "#print(current_date())\n",
        "\n",
        "if __name__ == \"__main__\":\n",
        "  print(\"The current time is\", current_time())\n",
        "  print(\"The current date is\",current_date())"
      ],
      "metadata": {
        "id": "lFk7FFHkeuBK",
        "colab": {
          "base_uri": "https://localhost:8080/"
        },
        "outputId": "d95f8ea8-6e52-48ba-dee0-90f051634734"
      },
      "execution_count": null,
      "outputs": [
        {
          "output_type": "stream",
          "name": "stdout",
          "text": [
            "The current time is 10:54 AM\n",
            "The current date is Feb 25 25\n"
          ]
        }
      ]
    },
    {
      "cell_type": "markdown",
      "source": [
        "SUPPLEMENTARY ACTIVITY"
      ],
      "metadata": {
        "id": "bEakij8k54Gy"
      }
    },
    {
      "cell_type": "code",
      "source": [
        "#1 CENSOR WORDS\n",
        "\n",
        "import re\n",
        "\n",
        "def censor_words(sentence: str, bad_words: list) -> str:\n",
        "  def replace_asterisk(match):\n",
        "    return '*' * len(match.group())\n",
        "\n",
        "  pattern = r'\\b('+ '|'.join(map(re.escape, bad_words)) + r')\\b'\n",
        "  censored_sentence = re.sub(pattern, replace_asterisk, sentence, flags=re.IGNORECASE)\n",
        "\n",
        "  return censored_sentence\n",
        "\n",
        "sentence = \"Bad and Terrible.\"\n",
        "print(censor_words(sentence, [\"bad\", \"terrible\"]))"
      ],
      "metadata": {
        "colab": {
          "base_uri": "https://localhost:8080/"
        },
        "id": "xIkJmp8M56rt",
        "outputId": "7393650a-7113-48db-b7e1-daf2546317e6"
      },
      "execution_count": null,
      "outputs": [
        {
          "output_type": "stream",
          "name": "stdout",
          "text": [
            "*** and ********.\n"
          ]
        }
      ]
    },
    {
      "cell_type": "code",
      "source": [
        "#2 PROJECTILE MOTION SOLVER\n",
        "\n",
        "import math\n",
        "def projectilemotion_solve(velocity: float, angle: float) -> float:\n",
        "\n",
        "  radian = math.radians(angle)\n",
        "  gravity = 9.8\n",
        "\n",
        "  R = ((velocity**2)*math.sin(2*radian))/(float(gravity))\n",
        "\n",
        "  h = ((velocity**2)*(math.sin(radian)**2))/(2*float(gravity))\n",
        "\n",
        "  return R,h\n",
        "\n",
        "velocity = float(input(\"Enter the velocity: \"))\n",
        "angle = float(input(\"Enter the angle: \"))\n",
        "\n",
        "R,h = projectilemotion_solve(velocity, angle)\n",
        "\n",
        "print(f\"Range: {R:.2f} meters\")\n",
        "print(f\"Height:{h:.2f} meters\")"
      ],
      "metadata": {
        "colab": {
          "base_uri": "https://localhost:8080/"
        },
        "id": "Lgk8wBtJ_Bwf",
        "outputId": "e951638f-22a0-4adc-ea3a-32de61d76c25"
      },
      "execution_count": null,
      "outputs": [
        {
          "output_type": "stream",
          "name": "stdout",
          "text": [
            "Enter the velocity: 11\n",
            "Enter the angle: 20\n",
            "Range: 7.94 meters\n",
            "Height:0.72 meters\n"
          ]
        }
      ]
    },
    {
      "cell_type": "code",
      "source": [
        "#3 QUADRATIC EQUATION\n",
        "\n",
        "import math\n",
        "\n",
        "def quadratic_formula(a,b,c, filename = \"quadratic_equation.txt\"):\n",
        "  discriminant = b**2-(4*a*c)\n",
        "\n",
        "  file = open(\"newfile1.txt\", 'w')\n",
        "  if discriminant > 0:\n",
        "    x1 = (-b + math.sqrt(discriminant))/(2*a)\n",
        "    x2 = (-b - math.sqrt(discriminant))/(2*a)\n",
        "    file.write(f\"x1 = {x1:.2f}\\n\")\n",
        "    file.write(f\"x2 = {x2:.2f}\\n\")\n",
        "\n",
        "  elif discriminant == 0:\n",
        "    x = -b/(2*a)\n",
        "    file.write(f\"x = {x}\\n\")\n",
        "\n",
        "  else:\n",
        "    real = -b/(2*a)\n",
        "    imaginary = math.sqrt(abs(discriminant))/(2*a)\n",
        "    file.write(f\"x1 = {real} + {imaginary}i\\n\")\n",
        "    file.write(f\"x2 = {real} - {imaginary}i\\n\")\n",
        "  file.close()\n",
        "\n",
        "\n",
        "if __name__ == \"__main__\":\n",
        "    a = float(input(\"Enter the value of a: \"))\n",
        "    b = float(input(\"Enter the value of b: \"))\n",
        "    c = float(input(\"Enter the value of c: \"))\n",
        "    quadratic_formula(a,b,c)\n",
        "\n",
        "    with open(\"newfile1.txt\", 'r') as file:\n",
        "      data = file.read()\n",
        "    print(data)"
      ],
      "metadata": {
        "colab": {
          "base_uri": "https://localhost:8080/"
        },
        "id": "VzRB1dSKKWGF",
        "outputId": "1df654c0-a550-46d6-a415-430a8c750183"
      },
      "execution_count": 13,
      "outputs": [
        {
          "output_type": "stream",
          "name": "stdout",
          "text": [
            "Enter the value of a: 1\n",
            "Enter the value of b: 2\n",
            "Enter the value of c: 3\n",
            "x1 = -1.0 + 1.4142135623730951i\n",
            "x2 = -1.0 - 1.4142135623730951i\n",
            "\n"
          ]
        }
      ]
    }
  ]
}