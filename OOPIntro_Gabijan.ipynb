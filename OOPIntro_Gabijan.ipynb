{
  "nbformat": 4,
  "nbformat_minor": 0,
  "metadata": {
    "colab": {
      "provenance": [],
      "authorship_tag": "ABX9TyNw61sIhYPa2MQxdXlhb+ow",
      "include_colab_link": true
    },
    "kernelspec": {
      "name": "python3",
      "display_name": "Python 3"
    },
    "language_info": {
      "name": "python"
    }
  },
  "cells": [
    {
      "cell_type": "markdown",
      "metadata": {
        "id": "view-in-github",
        "colab_type": "text"
      },
      "source": [
        "<a href=\"https://colab.research.google.com/github/Rhovic-Gabijan/CPE-103-OOP-1-A/blob/main/OOPIntro_Gabijan.ipynb\" target=\"_parent\"><img src=\"https://colab.research.google.com/assets/colab-badge.svg\" alt=\"Open In Colab\"/></a>"
      ]
    },
    {
      "cell_type": "markdown",
      "source": [
        "main.py"
      ],
      "metadata": {
        "id": "14TK3qDUsoGe"
      }
    },
    {
      "cell_type": "code",
      "source": [
        "\"\"\"\n",
        "   Accounts.py\n",
        "\"\"\"\n",
        "\n",
        "class Accounts():\n",
        "  def __init__(self, account_number, account_firstname, account_lastname,\n",
        "               current_balance, address, email):\n",
        "    self.account_number = account_number\n",
        "    self.account_firstname = account_firstname\n",
        "    self.account_lastname = account_lastname\n",
        "    self.current_balance = current_balance\n",
        "    self.address = address\n",
        "    self.email = email\n",
        "\n",
        "  def update_address(new_address):\n",
        "    self.address = new_address\n",
        "\n",
        "  def update_email(new_email):\n",
        "    self.email = new_email\n",
        "\n",
        "\"\"\"\n",
        " ATM.py\n",
        "\"\"\"\n",
        "\n",
        "class ATM():\n",
        "  serial_number = 0\n",
        "\n",
        "  def deposit(self,account,amount):\n",
        "    account.current_balance = account.current_balance + amount\n",
        "    print(\"Deposit Complete\")\n",
        "\n",
        "  def withdraw(self, account, amount):\n",
        "    account.current_balance = account.current_balance - amount\n",
        "    print(\"Withdraw Complete\")\n",
        "\n",
        "  def check_currentbalance(self, account):\n",
        "    print(account.current_balance)\n",
        "\n",
        "\n",
        "\"\"\"\n",
        "  main.py\n",
        "\"\"\"\n",
        "\n",
        "\n",
        "Account1 = Accounts(account_number=123456, account_firstname=\"Royce\",\n",
        "                             account_lastname=\"Chua\", current_balance = 1000,\n",
        "                             address = \"Silver Street Quezon City\",\n",
        "                             email = \"roycechua123@gmail.com\")\n",
        "\n",
        "print(\"Account 1\")\n",
        "\n",
        "\n",
        "print(Account1.account_firstname)\n",
        "print(Account1.account_lastname)\n",
        "print(Account1.current_balance)\n",
        "print(Account1.address)\n",
        "print(Account1.email)\n",
        "\n",
        "print()\n",
        "\n",
        "Account2 = Accounts(account_number=654321, account_firstname=\"john\",\n",
        "                             account_lastname=\"Doe\", current_balance=2000,\n",
        "                             address= \"Gold Street Quezon City\",\n",
        "                             email = \"Johndoey@yahoo.com\")\n",
        "\n",
        "\n",
        "print(\"Account 2\")\n",
        "print(Account2.account_firstname)\n",
        "print(Account2.account_lastname)\n",
        "print(Account2.current_balance)\n",
        "print(Account2.address)\n",
        "print(Account2.email)\n",
        "\n",
        "# Creating and Using an ATM object\n",
        "ATM1 = ATM()\n",
        "ATM1.deposit(Account1,500)\n",
        "ATM1.check_currentbalance(Account1)\n",
        "\n",
        "ATM1.deposit(Account2,300)\n",
        "ATM1.check_currentbalance(Account2)"
      ],
      "metadata": {
        "colab": {
          "base_uri": "https://localhost:8080/"
        },
        "id": "MskqiYGNsqQN",
        "outputId": "721f8722-cc9e-4634-ceb8-f96be6a63ab8"
      },
      "execution_count": null,
      "outputs": [
        {
          "output_type": "stream",
          "name": "stdout",
          "text": [
            "Account 1\n",
            "Royce\n",
            "Chua\n",
            "1000\n",
            "Silver Street Quezon City\n",
            "roycechua123@gmail.com\n",
            "\n",
            "Account 2\n",
            "john\n",
            "Doe\n",
            "2000\n",
            "Gold Street Quezon City\n",
            "Johndoey@yahoo.com\n",
            "Deposit Complete\n",
            "1500\n",
            "Deposit Complete\n",
            "2300\n"
          ]
        }
      ]
    }
  ]
}