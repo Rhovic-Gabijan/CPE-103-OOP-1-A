{
  "nbformat": 4,
  "nbformat_minor": 0,
  "metadata": {
    "colab": {
      "provenance": [],
      "authorship_tag": "ABX9TyOTPI79sEc7d9FFoHaB1Oay",
      "include_colab_link": true
    },
    "kernelspec": {
      "name": "python3",
      "display_name": "Python 3"
    },
    "language_info": {
      "name": "python"
    }
  },
  "cells": [
    {
      "cell_type": "markdown",
      "metadata": {
        "id": "view-in-github",
        "colab_type": "text"
      },
      "source": [
        "<a href=\"https://colab.research.google.com/github/Rhovic-Gabijan/CPE-103-OOP-1-A/blob/main/OOP_Concept.ipynb\" target=\"_parent\"><img src=\"https://colab.research.google.com/assets/colab-badge.svg\" alt=\"Open In Colab\"/></a>"
      ]
    },
    {
      "cell_type": "markdown",
      "source": [
        "Class Constructor"
      ],
      "metadata": {
        "id": "1nnh9qBo7WqS"
      }
    },
    {
      "cell_type": "code",
      "source": [
        "class Car:\n",
        "  Car_type = \"Sedan\"\n",
        "\n",
        "  def __init__(self, name, color):\n",
        "    self.name = name\n",
        "    self.color = color"
      ],
      "metadata": {
        "id": "aqDK_fZM-VV6"
      },
      "execution_count": 6,
      "outputs": []
    },
    {
      "cell_type": "markdown",
      "source": [
        "Multiple Objects with the same Class"
      ],
      "metadata": {
        "id": "LvD1SXRB_ZX5"
      }
    },
    {
      "cell_type": "code",
      "source": [
        "class Car:  # parent class\n",
        "  def __init__(self, name, mileage):\n",
        "    self.name = name\n",
        "    self.mileage = mileage\n",
        "\n",
        "  def description(self):\n",
        "    return f\"The {self.name} car gives the mileage of {self.mileage} km/l\"\n",
        "\n",
        "class BMW(Car):  # child class\n",
        "  pass\n",
        "\n",
        "class Audi(Car):  # child class\n",
        "    def audi_desc(self):\n",
        "      return \"This is the description method of Audi.\"\n",
        "\n",
        "bmw = BMW(\"BMW 7-series\", 39.53)\n",
        "print(bmw.description())\n",
        "\n",
        "audi = Audi(\"A8 L\", 140)\n",
        "print(audi.audi_desc())"
      ],
      "metadata": {
        "colab": {
          "base_uri": "https://localhost:8080/"
        },
        "id": "_5HCyJfZ_bxg",
        "outputId": "a95f2b5d-bc79-481c-f0cd-6ee1ca841e9d"
      },
      "execution_count": 22,
      "outputs": [
        {
          "output_type": "stream",
          "name": "stdout",
          "text": [
            "The BMW 7-series car gives the mileage of 39.53 km/l\n",
            "This is the description method of Audi.\n"
          ]
        }
      ]
    },
    {
      "cell_type": "markdown",
      "source": [
        "Apply the OOP concept constructor, methods, inheritance, to describe the side of shapes (e.g. Triangle, Square, Rectangle)"
      ],
      "metadata": {
        "id": "CqK-mmzmE6cs"
      }
    },
    {
      "cell_type": "code",
      "source": [
        "class Shapes:\n",
        "  def __init__(self, sides, name):\n",
        "    self.sides = sides\n",
        "    self.name = name\n",
        "\n",
        "  def describe_sides(self):\n",
        "    return f\"The {self.name} has {self.sides} sides\"\n",
        "\n",
        "class Triangle(Shapes):\n",
        "    pass\n",
        "\n",
        "class Square(Shapes):\n",
        "    pass\n",
        "\n",
        "class Rectangle(Shapes):\n",
        "    pass\n",
        "\n",
        "triangle = Triangle(3, \"Triangle\")\n",
        "print(triangle.describe_sides())\n",
        "\n",
        "square = Square(4, \"Square\")\n",
        "print(square.describe_sides())\n",
        "\n",
        "rectangle = Rectangle(4,\"Rectangle\")\n",
        "print(rectangle.describe_sides())"
      ],
      "metadata": {
        "colab": {
          "base_uri": "https://localhost:8080/"
        },
        "id": "8snN2gGvKtdE",
        "outputId": "86f5ec65-0845-466e-d05e-9981925fcbb6"
      },
      "execution_count": 47,
      "outputs": [
        {
          "output_type": "stream",
          "name": "stdout",
          "text": [
            "The Triangle has 3 sides\n",
            "The Square has 4 sides\n",
            "The Rectangle has 4 sides\n"
          ]
        }
      ]
    }
  ]
}