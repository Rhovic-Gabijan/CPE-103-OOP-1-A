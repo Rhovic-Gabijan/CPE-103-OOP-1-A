{
  "nbformat": 4,
  "nbformat_minor": 0,
  "metadata": {
    "colab": {
      "provenance": [],
      "authorship_tag": "ABX9TyOuydLcbhfijDwycpeDwkga",
      "include_colab_link": true
    },
    "kernelspec": {
      "name": "python3",
      "display_name": "Python 3"
    },
    "language_info": {
      "name": "python"
    }
  },
  "cells": [
    {
      "cell_type": "markdown",
      "metadata": {
        "id": "view-in-github",
        "colab_type": "text"
      },
      "source": [
        "<a href=\"https://colab.research.google.com/github/Rhovic-Gabijan/CPE-103-OOP-1-A/blob/main/Variables_and_Data_Types.ipynb\" target=\"_parent\"><img src=\"https://colab.research.google.com/assets/colab-badge.svg\" alt=\"Open In Colab\"/></a>"
      ]
    },
    {
      "cell_type": "markdown",
      "source": [
        "Variables"
      ],
      "metadata": {
        "id": "7JqQdvPKzYdf"
      }
    },
    {
      "cell_type": "code",
      "source": [
        "#Numbers\n",
        "varNum = 123\n",
        "pi = 3.14159\n",
        "\n",
        "#Strings\n",
        "varString = \"Hello World\"\n",
        "varText = 'This is a String'\n",
        "\n",
        "#Lists\n",
        "varList = [\"abc\", 123]\n",
        "\n",
        "#Tuples\n",
        "varTuple = ('abc', 123, \"HELLO\")\n",
        "\n",
        "#Dictionaries\n",
        "var = 3\n",
        "varDict = {'First':1, '2':'2nd', 3:var}\n",
        "varDict ={}\n",
        "varDict['First'] = 1\n",
        "varDict['2'] = '2nd'\n",
        "varDict[3]= var"
      ],
      "metadata": {
        "id": "1NHDIah60FSb"
      },
      "execution_count": 3,
      "outputs": []
    },
    {
      "cell_type": "markdown",
      "source": [
        "Arithmetic"
      ],
      "metadata": {
        "id": "q4wmdDPU2A-Z"
      }
    },
    {
      "cell_type": "code",
      "source": [
        "#Addition\n",
        "a = 5 + 3\n",
        "\n",
        "#Substraction\n",
        "a = 5 -3\n",
        "\n",
        "#Multiplication\n",
        "a = 5*3\n",
        "\n",
        "#Exponent\n",
        "a = 5**3\n",
        "\n",
        "#Division\n",
        "a = 5/3\n",
        "\n",
        "a = 5%3\n",
        "\n",
        "a = 5//3\n",
        "\n",
        "#Increment/Decrement\n",
        "a = 5\n",
        "a += 1\n",
        "\n",
        "#Decrement\n",
        "a = 5\n",
        "a -= 1\n",
        "\n",
        "#String Concatenation\n",
        "a = 'Hello' + 'World!'\n",
        "\n",
        "#Complex Expressions\n",
        "a = 3 + 5 - 6 *2 / 4\n"
      ],
      "metadata": {
        "id": "2Kb7gCCI2E8L"
      },
      "execution_count": 8,
      "outputs": []
    },
    {
      "cell_type": "markdown",
      "source": [
        "Condtional Statements"
      ],
      "metadata": {
        "id": "mHuqFEvH3yQQ"
      }
    },
    {
      "cell_type": "code",
      "source": [
        "#Boolean Conditions\n",
        "x = True\n",
        "\n",
        "if x:\n",
        "  print (\"Var is True\")\n",
        "else:\n",
        "  print(\"Var is False\")\n",
        "\n",
        "#String Conditions\n",
        "x = \"Hello World!\"\n",
        "\n",
        "if x== 'Hello World!':\n",
        "  print(\"Var x is Hello World!\")\n",
        "else:\n",
        "  print(\"var x is not Hello World!\")\n",
        "\n",
        "#Numerical Conditions\n",
        "x = 10\n",
        "if x=='10':\n",
        "  print(\"var x is a string\")\n",
        "elif x == 10:\n",
        "  print(\"var x is an integer\")\n",
        "else:\n",
        "  print(\"var is none of the above\")"
      ],
      "metadata": {
        "colab": {
          "base_uri": "https://localhost:8080/"
        },
        "id": "CZmiDjsz30ZU",
        "outputId": "aaab0b8e-c489-4884-b982-8110b5b8f1c9"
      },
      "execution_count": 10,
      "outputs": [
        {
          "output_type": "stream",
          "name": "stdout",
          "text": [
            "Var is True\n",
            "Var x is Hello World!\n",
            "var x is an integer\n"
          ]
        }
      ]
    },
    {
      "cell_type": "markdown",
      "source": [
        "Loop"
      ],
      "metadata": {
        "id": "vmLy3F7J4-HU"
      }
    },
    {
      "cell_type": "code",
      "source": [
        "#For Loops\n",
        "for var in range (0, 5, 2):\n",
        "  print(var)\n",
        "\n",
        "#While Loops\n",
        "var = 0\n",
        "while var < 5:\n",
        "  print(var)\n",
        "  var += 2\n",
        "\n",
        "#Nested Loops\n",
        "x = 0\n",
        "while x < 5:\n",
        "  for y in range (0, x):\n",
        "    print(y, end='')\n",
        "  x += 1\n",
        "  print()"
      ],
      "metadata": {
        "colab": {
          "base_uri": "https://localhost:8080/"
        },
        "id": "u2zgCvFQ5ACp",
        "outputId": "1fc3cc97-6848-480d-b12d-2d0f20ed1b57"
      },
      "execution_count": 24,
      "outputs": [
        {
          "output_type": "stream",
          "name": "stdout",
          "text": [
            "0\n",
            "2\n",
            "4\n",
            "0\n",
            "2\n",
            "4\n",
            "\n",
            "0\n",
            "01\n",
            "012\n",
            "0123\n"
          ]
        }
      ]
    },
    {
      "cell_type": "markdown",
      "source": [
        "Function"
      ],
      "metadata": {
        "id": "uVJo3ZUO7FxJ"
      }
    },
    {
      "cell_type": "code",
      "source": [
        "def remainder (n ,m):\n",
        "  while True:\n",
        "    if n - m < 0:\n",
        "      return n\n",
        "    else:\n",
        "      n = n-m\n",
        "\n",
        "remainder(10,4)"
      ],
      "metadata": {
        "colab": {
          "base_uri": "https://localhost:8080/"
        },
        "id": "vDR13g6B7Jbr",
        "outputId": "1cc05a41-8cb8-4298-da8c-bb32f87fe75f"
      },
      "execution_count": 16,
      "outputs": [
        {
          "output_type": "execute_result",
          "data": {
            "text/plain": [
              "2"
            ]
          },
          "metadata": {},
          "execution_count": 16
        }
      ]
    },
    {
      "cell_type": "markdown",
      "source": [
        "List"
      ],
      "metadata": {
        "id": "2iP3722P96GE"
      }
    },
    {
      "cell_type": "code",
      "source": [
        "pi = 3.14159\n",
        "varList = [1, 2, 'A', 'B', 'Hello!', pi]\n",
        "print(varList[0])\n",
        "\n",
        "print(varList[4])\n",
        "\n",
        "varList.append('World!')\n",
        "print(varList[6])\n",
        "\n",
        "len(varList)\n",
        "\n",
        "print(varList[5])\n",
        "\n",
        "varList.remove(pi)\n",
        "print(varList[5])"
      ],
      "metadata": {
        "colab": {
          "base_uri": "https://localhost:8080/"
        },
        "id": "dsFwH9F997AX",
        "outputId": "1dbd231f-a006-4afb-c7f1-4086d7b22a89"
      },
      "execution_count": 28,
      "outputs": [
        {
          "output_type": "stream",
          "name": "stdout",
          "text": [
            "1\n",
            "Hello!\n",
            "World!\n",
            "3.14159\n",
            "World!\n"
          ]
        }
      ]
    },
    {
      "cell_type": "markdown",
      "source": [
        "Dictionaries"
      ],
      "metadata": {
        "id": "jfVEEQqa_AVj"
      }
    },
    {
      "cell_type": "code",
      "source": [
        "var = \"Hello World!\"\n",
        "varDict = {'first':123, 2:'abc', '3':var, 4:['lista', 'listb']}\n",
        "\n",
        "print(varDict['first'])\n",
        "\n",
        "print(varDict[2])\n",
        "\n",
        "print(varDict['3'])\n",
        "\n",
        "print(varDict[4])\n",
        "\n",
        "print(varDict[4][1])\n",
        "\n",
        "len(varDict)"
      ],
      "metadata": {
        "colab": {
          "base_uri": "https://localhost:8080/"
        },
        "id": "Fn8p9CQz_Co9",
        "outputId": "10b08efa-7bc1-4bc2-9edb-105d5bb3ce66"
      },
      "execution_count": 34,
      "outputs": [
        {
          "output_type": "stream",
          "name": "stdout",
          "text": [
            "123\n",
            "abc\n",
            "Hello World!\n",
            "['lista', 'listb']\n",
            "listb\n"
          ]
        },
        {
          "output_type": "execute_result",
          "data": {
            "text/plain": [
              "4"
            ]
          },
          "metadata": {},
          "execution_count": 34
        }
      ]
    },
    {
      "cell_type": "markdown",
      "source": [
        "List Generators and Comprehension"
      ],
      "metadata": {
        "id": "VBIevp6VAbmt"
      }
    },
    {
      "cell_type": "code",
      "source": [
        "def gen_num_up_to(n):\n",
        "  num = 0\n",
        "  while num < n:\n",
        "    yield num\n",
        "    num += 1\n",
        "\n",
        "gen_num_up_to(5)\n",
        "\n",
        "varList = gen_num_up_to(5)\n",
        "print([var for var in varList])\n",
        "\n",
        "def gen_num_up_to(n):\n",
        "  num = 0\n",
        "  while num < n:\n",
        "    yield num\n",
        "    num += 2\n",
        "\n",
        "varList = gen_num_up_to(5)\n",
        "print([var for var in varList])\n",
        "\n",
        "varList = range(0,5,2)\n",
        "print([var for var in varList])"
      ],
      "metadata": {
        "colab": {
          "base_uri": "https://localhost:8080/"
        },
        "id": "7_N0TvOZAeVg",
        "outputId": "29e9e65f-6617-4f66-8263-f101771c575b"
      },
      "execution_count": 39,
      "outputs": [
        {
          "output_type": "stream",
          "name": "stdout",
          "text": [
            "[0, 1, 2, 3, 4]\n",
            "[0, 2, 4]\n",
            "[0, 2, 4]\n"
          ]
        }
      ]
    },
    {
      "cell_type": "markdown",
      "source": [
        "Slicing"
      ],
      "metadata": {
        "id": "9k8Ji1wZB1N2"
      }
    },
    {
      "cell_type": "code",
      "source": [
        "varList = [1, 2, 3, 4, 5, 6, 7, 8, 9, 10]\n",
        "print(varList[:5])\n",
        "\n",
        "print(varList[5:])\n",
        "\n",
        "print(varList[:-2])\n",
        "\n",
        "print(varList[-2:])\n",
        "\n",
        "print(varList[2:-2])\n",
        "\n",
        "print(varList[2:8:2])"
      ],
      "metadata": {
        "colab": {
          "base_uri": "https://localhost:8080/"
        },
        "id": "vKOBLyHLB2M5",
        "outputId": "5aa57db0-a57b-4e3d-eced-62afcc9637f9"
      },
      "execution_count": 42,
      "outputs": [
        {
          "output_type": "stream",
          "name": "stdout",
          "text": [
            "[1, 2, 3, 4, 5]\n",
            "[6, 7, 8, 9, 10]\n",
            "[1, 2, 3, 4, 5, 6, 7, 8]\n",
            "[9, 10]\n",
            "[3, 4, 5, 6, 7, 8]\n",
            "[3, 5, 7]\n"
          ]
        }
      ]
    }
  ]
}