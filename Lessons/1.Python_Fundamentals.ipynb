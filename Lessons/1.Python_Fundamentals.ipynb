{
  "nbformat": 4,
  "nbformat_minor": 0,
  "metadata": {
    "colab": {
      "provenance": [],
      "authorship_tag": "ABX9TyOtqg0T159mhgcrVTdMq97T",
      "include_colab_link": true
    },
    "kernelspec": {
      "name": "python3",
      "display_name": "Python 3"
    },
    "language_info": {
      "name": "python"
    }
  },
  "cells": [
    {
      "cell_type": "markdown",
      "metadata": {
        "id": "view-in-github",
        "colab_type": "text"
      },
      "source": [
        "<a href=\"https://colab.research.google.com/github/Rhovic-Gabijan/CPE-103-OOP-1-A/blob/main/Python_Fundamentals.ipynb\" target=\"_parent\"><img src=\"https://colab.research.google.com/assets/colab-badge.svg\" alt=\"Open In Colab\"/></a>"
      ]
    },
    {
      "cell_type": "markdown",
      "source": [
        "Python indentation"
      ],
      "metadata": {
        "id": "bIk3GVPvFg2p"
      }
    },
    {
      "cell_type": "code",
      "source": [
        "x = 2\n",
        "y = 5\n",
        "if x>y:\n",
        "  print(\"Five is greater than two\")"
      ],
      "metadata": {
        "colab": {
          "base_uri": "https://localhost:8080/"
        },
        "id": "EB1H38dPFr75",
        "outputId": "ff13e7aa-3f4f-4fc9-8922-b89c9c07045d"
      },
      "execution_count": 5,
      "outputs": [
        {
          "output_type": "stream",
          "name": "stdout",
          "text": [
            "Five is greater than two\n"
          ]
        }
      ]
    },
    {
      "cell_type": "markdown",
      "source": [
        "Python Comments"
      ],
      "metadata": {
        "id": "qp17T1fyIppy"
      }
    },
    {
      "cell_type": "code",
      "source": [
        "#This is a comment\n",
        "print(\"Hello world\")"
      ],
      "metadata": {
        "colab": {
          "base_uri": "https://localhost:8080/"
        },
        "id": "qZK-IyVZIsZh",
        "outputId": "be868700-1698-4756-af17-d2024ca84a78"
      },
      "execution_count": 2,
      "outputs": [
        {
          "output_type": "stream",
          "name": "stdout",
          "text": [
            "Hello world\n"
          ]
        }
      ]
    },
    {
      "cell_type": "markdown",
      "source": [
        "Python Variable"
      ],
      "metadata": {
        "id": "Y9oTn5NrKX-I"
      }
    },
    {
      "cell_type": "code",
      "source": [
        "z=1\n",
        "a, b=0, 1\n",
        "a, b, c = 0, -1, 2\n",
        "b=\"Sally\"\n",
        "print(a)\n",
        "print(b)\n",
        "print(c)"
      ],
      "metadata": {
        "colab": {
          "base_uri": "https://localhost:8080/"
        },
        "id": "JmWemnOCKbUh",
        "outputId": "b06b217e-f4a5-4d90-d163-9537ecc97b75"
      },
      "execution_count": 10,
      "outputs": [
        {
          "output_type": "stream",
          "name": "stdout",
          "text": [
            "0\n",
            "Sally\n",
            "2\n"
          ]
        }
      ]
    },
    {
      "cell_type": "markdown",
      "source": [
        "Casting"
      ],
      "metadata": {
        "id": "wDtCDGdYMQD4"
      }
    },
    {
      "cell_type": "code",
      "source": [
        "b = \"Sally\"\n",
        "b = int(4)\n",
        "print(b)\n",
        "\n",
        "b=float(4)\n",
        "print(b)"
      ],
      "metadata": {
        "colab": {
          "base_uri": "https://localhost:8080/"
        },
        "id": "GzA1ufLnMcfI",
        "outputId": "95befc0b-ca99-4900-f821-89e2ac74505e"
      },
      "execution_count": 13,
      "outputs": [
        {
          "output_type": "stream",
          "name": "stdout",
          "text": [
            "4\n",
            "4.0\n"
          ]
        }
      ]
    },
    {
      "cell_type": "markdown",
      "source": [
        "Types () function"
      ],
      "metadata": {
        "id": "_utURg8MND54"
      }
    },
    {
      "cell_type": "code",
      "source": [
        "x=5\n",
        "y=\"John\"\n",
        "print(type(x))\n",
        "print(type(y))"
      ],
      "metadata": {
        "colab": {
          "base_uri": "https://localhost:8080/"
        },
        "id": "-VZJRKGLNH1I",
        "outputId": "b6bb0dff-2093-4877-f99f-99a3b0e5d6b2"
      },
      "execution_count": 14,
      "outputs": [
        {
          "output_type": "stream",
          "name": "stdout",
          "text": [
            "<class 'int'>\n",
            "<class 'str'>\n"
          ]
        }
      ]
    },
    {
      "cell_type": "markdown",
      "source": [
        "Double qoutes or Single qoutes"
      ],
      "metadata": {
        "id": "uJ6nJo7gN_RA"
      }
    },
    {
      "cell_type": "code",
      "source": [
        "x = \"John\"\n",
        "y = 'John'\n",
        "print(x)\n",
        "print(y)"
      ],
      "metadata": {
        "colab": {
          "base_uri": "https://localhost:8080/"
        },
        "id": "QvtEEGsgOC3H",
        "outputId": "457a4615-66b6-434c-ba36-0b76e2fd4dd3"
      },
      "execution_count": 15,
      "outputs": [
        {
          "output_type": "stream",
          "name": "stdout",
          "text": [
            "John\n",
            "John\n"
          ]
        }
      ]
    },
    {
      "cell_type": "markdown",
      "source": [
        "Case sensitive"
      ],
      "metadata": {
        "id": "SQwVCekoOcUw"
      }
    },
    {
      "cell_type": "code",
      "source": [
        "a=4\n",
        "A=\"Sally\"\n",
        "#A will not overwrite a"
      ],
      "metadata": {
        "id": "xoDHwluKOe6f"
      },
      "execution_count": 16,
      "outputs": []
    },
    {
      "cell_type": "markdown",
      "source": [
        "Multiple Variables"
      ],
      "metadata": {
        "id": "Bg0MYYoaOyF4"
      }
    },
    {
      "cell_type": "code",
      "source": [
        "x,y,z = \"one\", \"two\", \"three\"\n",
        "print (x)\n",
        "print (y)\n",
        "print (z)"
      ],
      "metadata": {
        "colab": {
          "base_uri": "https://localhost:8080/"
        },
        "id": "JNoZzSLWO1hp",
        "outputId": "5f1cfe2d-13a3-4167-d33d-b681b9ec41e5"
      },
      "execution_count": 17,
      "outputs": [
        {
          "output_type": "stream",
          "name": "stdout",
          "text": [
            "one\n",
            "two\n",
            "three\n"
          ]
        }
      ]
    },
    {
      "cell_type": "markdown",
      "source": [
        "One Value to Multiple Variables"
      ],
      "metadata": {
        "id": "Sfqi1DIjP3UY"
      }
    },
    {
      "cell_type": "code",
      "source": [
        "x = y = z =\"Four\"\n",
        "print(x)\n",
        "print(y)\n",
        "print(z)"
      ],
      "metadata": {
        "colab": {
          "base_uri": "https://localhost:8080/"
        },
        "id": "dGzUNhPxP8oX",
        "outputId": "7ecde244-672f-4927-9365-93120c4e003d"
      },
      "execution_count": 18,
      "outputs": [
        {
          "output_type": "stream",
          "name": "stdout",
          "text": [
            "Four\n",
            "Four\n",
            "Four\n"
          ]
        }
      ]
    },
    {
      "cell_type": "markdown",
      "source": [
        "Output Variables"
      ],
      "metadata": {
        "id": "Ikv6KnB5QGFS"
      }
    },
    {
      "cell_type": "code",
      "source": [
        "x = \"enjoying\"\n",
        "print(\"Python programm is \" + x)"
      ],
      "metadata": {
        "colab": {
          "base_uri": "https://localhost:8080/"
        },
        "id": "uuOSYO1VQKKX",
        "outputId": "f13d8ae8-77d6-4736-f7ce-8fb1cec07b74"
      },
      "execution_count": 20,
      "outputs": [
        {
          "output_type": "stream",
          "name": "stdout",
          "text": [
            "Python programm is enjoying\n"
          ]
        }
      ]
    },
    {
      "cell_type": "markdown",
      "source": [
        "Arithmetic Operations"
      ],
      "metadata": {
        "id": "IMVdt2nYQ8NA"
      }
    },
    {
      "cell_type": "code",
      "source": [
        "x=10\n",
        "y=3\n",
        "\n",
        "sum = x+y\n",
        "subtraction = x-y\n",
        "multiplication = x*y\n",
        "division = x/y\n",
        "modulus = x%y\n",
        "exponentiation = x**y\n",
        "floor_division = x//y\n",
        "\n",
        "print(sum)\n",
        "print(subtraction)\n",
        "print(multiplication)\n",
        "print(division)\n",
        "print(modulus)\n",
        "print(exponentiation)\n",
        "print(floor_division)"
      ],
      "metadata": {
        "colab": {
          "base_uri": "https://localhost:8080/"
        },
        "id": "e8uog0a9Q-6H",
        "outputId": "6d2bcb29-8c55-4aa3-fd02-f820b15f3bf1"
      },
      "execution_count": 24,
      "outputs": [
        {
          "output_type": "stream",
          "name": "stdout",
          "text": [
            "13\n",
            "7\n",
            "30\n",
            "3.3333333333333335\n",
            "1\n",
            "1000\n",
            "3\n"
          ]
        }
      ]
    },
    {
      "cell_type": "markdown",
      "source": [
        "Assigned Operators"
      ],
      "metadata": {
        "id": "bdy4j3FnSjZw"
      }
    },
    {
      "cell_type": "code",
      "source": [
        "a, b, c = 0, -1, 6\n",
        "c%=3\n",
        "c"
      ],
      "metadata": {
        "colab": {
          "base_uri": "https://localhost:8080/"
        },
        "id": "lgV94Yd_Snlv",
        "outputId": "9d665bcb-3b99-4b84-d73d-915d5a2058d3"
      },
      "execution_count": 26,
      "outputs": [
        {
          "output_type": "execute_result",
          "data": {
            "text/plain": [
              "0"
            ]
          },
          "metadata": {},
          "execution_count": 26
        }
      ]
    },
    {
      "cell_type": "markdown",
      "source": [
        "Comparison Operators"
      ],
      "metadata": {
        "id": "Yr3UTiqhS3Vg"
      }
    },
    {
      "cell_type": "code",
      "source": [
        "x = 5\n",
        "y = 2\n",
        "sum = x !=y\n",
        "less = x == y\n",
        "print(sum)\n",
        "print(less)"
      ],
      "metadata": {
        "colab": {
          "base_uri": "https://localhost:8080/"
        },
        "id": "tCZfLhoBS6NJ",
        "outputId": "fc3d9c17-6806-4736-954e-6677d574ff4e"
      },
      "execution_count": 32,
      "outputs": [
        {
          "output_type": "stream",
          "name": "stdout",
          "text": [
            "True\n",
            "False\n"
          ]
        }
      ]
    },
    {
      "cell_type": "markdown",
      "source": [
        "Logical Operators"
      ],
      "metadata": {
        "id": "kL3e5ZWnTP5Q"
      }
    },
    {
      "cell_type": "code",
      "source": [
        "x = 2\n",
        "y = 3\n",
        "\n",
        "q = x < 5 and x < 10\n",
        "w = not(x<5 and x<10)\n",
        "print(q)\n",
        "print(w)"
      ],
      "metadata": {
        "colab": {
          "base_uri": "https://localhost:8080/"
        },
        "id": "JjKnD_LFTSS4",
        "outputId": "dd076540-1872-41db-ac2e-21198cf12b2e"
      },
      "execution_count": 34,
      "outputs": [
        {
          "output_type": "stream",
          "name": "stdout",
          "text": [
            "True\n",
            "False\n"
          ]
        }
      ]
    },
    {
      "cell_type": "markdown",
      "source": [
        "Identity Operators"
      ],
      "metadata": {
        "id": "zo35NXQAUYc4"
      }
    },
    {
      "cell_type": "code",
      "source": [
        "a,b,c = 0, -1, 5\n",
        "r = a is c\n",
        "t = a is not c\n",
        "\n",
        "print(r)\n",
        "print(t)"
      ],
      "metadata": {
        "colab": {
          "base_uri": "https://localhost:8080/"
        },
        "id": "jsjS1-PcUaiy",
        "outputId": "091aad6f-4b42-4706-cee2-52d03c96ee2c"
      },
      "execution_count": 37,
      "outputs": [
        {
          "output_type": "stream",
          "name": "stdout",
          "text": [
            "False\n",
            "True\n"
          ]
        }
      ]
    },
    {
      "cell_type": "markdown",
      "source": [
        "Bitwise Operators"
      ],
      "metadata": {
        "id": "-D-_I9bJVGcw"
      }
    },
    {
      "cell_type": "code",
      "source": [
        "x = 10\n",
        "x >> 1\n"
      ],
      "metadata": {
        "colab": {
          "base_uri": "https://localhost:8080/"
        },
        "id": "Abs0T2d3VJWn",
        "outputId": "5d5cfae4-ec8c-43d4-c4b7-ff716d64cce8"
      },
      "execution_count": 51,
      "outputs": [
        {
          "output_type": "execute_result",
          "data": {
            "text/plain": [
              "5"
            ]
          },
          "metadata": {},
          "execution_count": 51
        }
      ]
    },
    {
      "cell_type": "markdown",
      "source": [
        "Application 1"
      ],
      "metadata": {
        "id": "DpezPFzbYSE4"
      }
    },
    {
      "cell_type": "code",
      "source": [
        "#Circle\n",
        "pi = 3.14\n",
        "print(\"Input Radius:\")\n",
        "x = input()\n",
        "\n",
        "print(\"Area of Circle is \")\n",
        "print(float(pi)*float(x)*float(x))\n"
      ],
      "metadata": {
        "colab": {
          "base_uri": "https://localhost:8080/"
        },
        "id": "JtFevXMiYUXP",
        "outputId": "56263a16-fd82-4ad4-adea-5418bb1c3a9d"
      },
      "execution_count": 67,
      "outputs": [
        {
          "output_type": "stream",
          "name": "stdout",
          "text": [
            "Input Radius:\n",
            "12\n",
            "Area of Circle is \n",
            "452.15999999999997\n"
          ]
        }
      ]
    },
    {
      "cell_type": "code",
      "source": [
        "#Rectangle\n",
        "print(\"Input Base: \")\n",
        "a= input()\n",
        "\n",
        "print(\"Input Height\")\n",
        "b=input()\n",
        "\n",
        "print(\"Area of Rectangle is \")\n",
        "print(float(a)*float(b))\n"
      ],
      "metadata": {
        "colab": {
          "base_uri": "https://localhost:8080/"
        },
        "id": "2o4nT-9QbFxn",
        "outputId": "4501ec42-b401-4727-b1c3-6d457e66f125"
      },
      "execution_count": 69,
      "outputs": [
        {
          "output_type": "stream",
          "name": "stdout",
          "text": [
            "Input Base: \n",
            "12\n",
            "Input Height\n",
            "12\n",
            "Area of Rectangle is \n",
            "144.0\n"
          ]
        }
      ]
    },
    {
      "cell_type": "code",
      "source": [
        "#Square\n",
        "\n",
        "print(\"Input Side of Square: \")\n",
        "p = input()\n",
        "\n",
        "print(\"The Area of Square is\")\n",
        "print(float(p)*float(p))"
      ],
      "metadata": {
        "colab": {
          "base_uri": "https://localhost:8080/"
        },
        "id": "h6XB0bowcx94",
        "outputId": "d5261796-3e27-448d-a258-cf16ec7cde78"
      },
      "execution_count": 73,
      "outputs": [
        {
          "output_type": "stream",
          "name": "stdout",
          "text": [
            "Input Side of Square: \n",
            "12\n",
            "The Area of Square is\n",
            "144.0\n"
          ]
        }
      ]
    }
  ]
}