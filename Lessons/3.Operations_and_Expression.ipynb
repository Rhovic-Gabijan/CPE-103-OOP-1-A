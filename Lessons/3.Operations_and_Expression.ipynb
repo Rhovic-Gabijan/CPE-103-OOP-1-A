{
  "nbformat": 4,
  "nbformat_minor": 0,
  "metadata": {
    "colab": {
      "provenance": [],
      "authorship_tag": "ABX9TyOfzTjGp9vtSKMwPItMvKV6",
      "include_colab_link": true
    },
    "kernelspec": {
      "name": "python3",
      "display_name": "Python 3"
    },
    "language_info": {
      "name": "python"
    }
  },
  "cells": [
    {
      "cell_type": "markdown",
      "metadata": {
        "id": "view-in-github",
        "colab_type": "text"
      },
      "source": [
        "<a href=\"https://colab.research.google.com/github/Rhovic-Gabijan/CPE-103-OOP-1-A/blob/main/Operations_and_Expression.ipynb\" target=\"_parent\"><img src=\"https://colab.research.google.com/assets/colab-badge.svg\" alt=\"Open In Colab\"/></a>"
      ]
    },
    {
      "cell_type": "markdown",
      "source": [
        "Boolean Operators"
      ],
      "metadata": {
        "id": "9PzNIgHFx5CC"
      }
    },
    {
      "cell_type": "code",
      "source": [
        "print(10>9)\n",
        "print(10==9)\n",
        "print(10<9)"
      ],
      "metadata": {
        "colab": {
          "base_uri": "https://localhost:8080/"
        },
        "id": "cPs7ptgzx_Z3",
        "outputId": "2243028e-b000-4a9b-bcf3-1574a4a8da0d"
      },
      "execution_count": 1,
      "outputs": [
        {
          "output_type": "stream",
          "name": "stdout",
          "text": [
            "True\n",
            "False\n",
            "False\n"
          ]
        }
      ]
    },
    {
      "cell_type": "markdown",
      "source": [
        "Bool() Function"
      ],
      "metadata": {
        "id": "m-tlJ1apzG8X"
      }
    },
    {
      "cell_type": "code",
      "source": [
        "print(bool(1))\n",
        "print(bool(0))\n",
        "print(bool(-2))"
      ],
      "metadata": {
        "colab": {
          "base_uri": "https://localhost:8080/"
        },
        "id": "RCN6rzuYzMKi",
        "outputId": "14cd8bb9-1c9e-486d-c622-fd150bb21f33"
      },
      "execution_count": 3,
      "outputs": [
        {
          "output_type": "stream",
          "name": "stdout",
          "text": [
            "True\n",
            "False\n",
            "True\n"
          ]
        }
      ]
    },
    {
      "cell_type": "markdown",
      "source": [
        "Functions can return a boolean"
      ],
      "metadata": {
        "id": "tmP03LSRzfS_"
      }
    },
    {
      "cell_type": "code",
      "source": [
        "def myFunction():\n",
        "  return True\n",
        "\n",
        "if myFunction():\n",
        "  print(\"YES\")\n",
        "else:\n",
        "  print(\"NO\")\n"
      ],
      "metadata": {
        "colab": {
          "base_uri": "https://localhost:8080/"
        },
        "id": "hY2pEHvLz-WD",
        "outputId": "36c6e7e2-fa06-466c-d4c7-6339f48bcb33"
      },
      "execution_count": 13,
      "outputs": [
        {
          "output_type": "stream",
          "name": "stdout",
          "text": [
            "YES\n"
          ]
        }
      ]
    },
    {
      "cell_type": "markdown",
      "source": [
        "Python Operators"
      ],
      "metadata": {
        "id": "eDiEHI4j0nOY"
      }
    },
    {
      "cell_type": "code",
      "source": [
        "print(10+5)\n",
        "print(10-5)\n",
        "print(10*5)\n",
        "print(10/5)\n",
        "print(10**5)\n",
        "print(10//5)\n",
        "print(10%5)"
      ],
      "metadata": {
        "colab": {
          "base_uri": "https://localhost:8080/"
        },
        "id": "XP9AwlB_2D8j",
        "outputId": "7a2865fb-3242-4d2f-96ae-4b51701fac9d"
      },
      "execution_count": 15,
      "outputs": [
        {
          "output_type": "stream",
          "name": "stdout",
          "text": [
            "15\n",
            "5\n",
            "50\n",
            "2.0\n",
            "100000\n",
            "2\n",
            "0\n"
          ]
        }
      ]
    },
    {
      "cell_type": "markdown",
      "source": [
        "Python Bitwise Operations"
      ],
      "metadata": {
        "id": "7MR74WzX23eQ"
      }
    },
    {
      "cell_type": "code",
      "source": [
        "a=60\n",
        "b=13\n",
        "\n",
        "print(a&b)\n",
        "print(a|b)\n",
        "print(a^b)\n",
        "print(~a)\n",
        "print(a<<2)\n"
      ],
      "metadata": {
        "colab": {
          "base_uri": "https://localhost:8080/"
        },
        "id": "LhwmEErA39ib",
        "outputId": "a5f348a2-05bd-4240-fc30-09dcb659eb13"
      },
      "execution_count": 23,
      "outputs": [
        {
          "output_type": "stream",
          "name": "stdout",
          "text": [
            "12\n",
            "61\n",
            "49\n",
            "-61\n",
            "240\n"
          ]
        }
      ]
    },
    {
      "cell_type": "markdown",
      "source": [
        "Python Assignment Operators"
      ],
      "metadata": {
        "id": "vsbQ8zOi-nTq"
      }
    },
    {
      "cell_type": "code",
      "source": [
        "x=5\n",
        "\n",
        "x+=3\n",
        "print(x)\n",
        "\n",
        "x-=3\n",
        "print(x)\n",
        "\n",
        "x*=3\n",
        "print(x)\n",
        "\n",
        "x/=3\n",
        "print(x)\n",
        "\n",
        "x%=3\n",
        "print(x)"
      ],
      "metadata": {
        "colab": {
          "base_uri": "https://localhost:8080/"
        },
        "id": "E4P6lIS3-r90",
        "outputId": "29118972-7b86-4139-c60e-7711b9dd178e"
      },
      "execution_count": 36,
      "outputs": [
        {
          "output_type": "stream",
          "name": "stdout",
          "text": [
            "8\n",
            "5\n",
            "15\n",
            "5.0\n",
            "2.0\n"
          ]
        }
      ]
    },
    {
      "cell_type": "markdown",
      "source": [
        "Logical Operators"
      ],
      "metadata": {
        "id": "j8IeJ9X7Csbr"
      }
    },
    {
      "cell_type": "code",
      "source": [
        "\n",
        "print(10>9 and 9>10)\n",
        "print(not(10>9 and 9>10))"
      ],
      "metadata": {
        "colab": {
          "base_uri": "https://localhost:8080/"
        },
        "id": "2sVAZArxCul8",
        "outputId": "e3d0db9c-a779-4b42-ace1-3cade866a4aa"
      },
      "execution_count": 43,
      "outputs": [
        {
          "output_type": "stream",
          "name": "stdout",
          "text": [
            "False\n",
            "True\n"
          ]
        }
      ]
    },
    {
      "cell_type": "markdown",
      "source": [
        "Identity Operator"
      ],
      "metadata": {
        "id": "OBm9e6ZnGifj"
      }
    },
    {
      "cell_type": "code",
      "source": [
        "x= 1\n",
        "y= 2\n",
        "print(x is y)\n",
        "print(x is not y)\n"
      ],
      "metadata": {
        "colab": {
          "base_uri": "https://localhost:8080/"
        },
        "id": "Kd3YtJCIGkrt",
        "outputId": "e110b3db-ada6-4221-faf4-d70b3436b3de"
      },
      "execution_count": 44,
      "outputs": [
        {
          "output_type": "stream",
          "name": "stdout",
          "text": [
            "False\n",
            "True\n"
          ]
        }
      ]
    },
    {
      "cell_type": "markdown",
      "source": [
        "Conditional Statement in Python"
      ],
      "metadata": {
        "id": "Y8Dl9mvOHIbk"
      }
    },
    {
      "cell_type": "markdown",
      "source": [
        "If statememt"
      ],
      "metadata": {
        "id": "jY1YK4ILMWd9"
      }
    },
    {
      "cell_type": "code",
      "source": [
        "a = 12\n",
        "b = 100\n",
        "\n",
        "if a<b:\n",
        "  print(\"B is Greatr than A\")"
      ],
      "metadata": {
        "colab": {
          "base_uri": "https://localhost:8080/"
        },
        "id": "wu1eIbYtMJyf",
        "outputId": "4da431f8-9896-4640-e155-6de9f59f6626"
      },
      "execution_count": 72,
      "outputs": [
        {
          "output_type": "stream",
          "name": "stdout",
          "text": [
            "B is Greatr than A\n"
          ]
        }
      ]
    },
    {
      "cell_type": "markdown",
      "source": [
        "Elif statement"
      ],
      "metadata": {
        "id": "NopntE77Ma9b"
      }
    },
    {
      "cell_type": "code",
      "source": [
        "a=float(input(\"Enter First number(a): \"))\n",
        "b=float(input(\"Enter Second number(b): \"))\n",
        "\n",
        "if b>a:\n",
        "    print(\"B is greater than a\")\n",
        "elif b==a:\n",
        "    print(\"A and B are Equal\")\n",
        "else:\n",
        "    print(\"A is greater than B\")"
      ],
      "metadata": {
        "colab": {
          "base_uri": "https://localhost:8080/"
        },
        "id": "j_SJnEnBHK6q",
        "outputId": "2363e818-5af5-4f0d-b00c-bd4882db913d"
      },
      "execution_count": 71,
      "outputs": [
        {
          "output_type": "stream",
          "name": "stdout",
          "text": [
            "Enter First number(a): 12\n",
            "Enter Second number(b): 12\n",
            "A and B are Equal\n"
          ]
        }
      ]
    },
    {
      "cell_type": "markdown",
      "source": [
        "Else Statement"
      ],
      "metadata": {
        "id": "CetVreXLMyW8"
      }
    },
    {
      "cell_type": "code",
      "source": [
        "a=float(input(\"Enter First number(a): \"))\n",
        "b=float(input(\"Enter Second number(b): \"))\n",
        "\n",
        "if b>a:\n",
        "    print(\"B is greater than a\")\n",
        "elif b==a:\n",
        "    print(\"A and B are Equal\")\n",
        "else:\n",
        "    print(\"A is greater than B\")"
      ],
      "metadata": {
        "colab": {
          "base_uri": "https://localhost:8080/"
        },
        "id": "UmfEFM6rM0Bn",
        "outputId": "7d669a32-c69d-4169-ed5b-9bf0eec2594b"
      },
      "execution_count": 74,
      "outputs": [
        {
          "output_type": "stream",
          "name": "stdout",
          "text": [
            "Enter First number(a): 200\n",
            "Enter Second number(b): 33\n",
            "A is greater than B\n"
          ]
        }
      ]
    },
    {
      "cell_type": "markdown",
      "source": [
        "Short Hand If Statement"
      ],
      "metadata": {
        "id": "vlzgr4GGNfBN"
      }
    },
    {
      "cell_type": "code",
      "source": [
        "if a>b: print(\"A is greater than B\")"
      ],
      "metadata": {
        "colab": {
          "base_uri": "https://localhost:8080/"
        },
        "id": "q6tX3wOTNjQ-",
        "outputId": "1126ba6c-3f39-4f2a-e907-2675eb111fe1"
      },
      "execution_count": 75,
      "outputs": [
        {
          "output_type": "stream",
          "name": "stdout",
          "text": [
            "A is greater than B\n"
          ]
        }
      ]
    },
    {
      "cell_type": "markdown",
      "source": [
        "Short Hand If..Else Statement"
      ],
      "metadata": {
        "id": "XQmzQBozN1Sb"
      }
    },
    {
      "cell_type": "code",
      "source": [
        "a= 2\n",
        "b= 330\n",
        "\n",
        "print(\"A\") if a>b else print(\"B\")"
      ],
      "metadata": {
        "colab": {
          "base_uri": "https://localhost:8080/"
        },
        "id": "ETfeNSY3N5y3",
        "outputId": "20497263-f6d1-4c2b-e0b1-aee079187172"
      },
      "execution_count": 76,
      "outputs": [
        {
          "output_type": "stream",
          "name": "stdout",
          "text": [
            "B\n"
          ]
        }
      ]
    },
    {
      "cell_type": "markdown",
      "source": [
        "And-both Conditions are True"
      ],
      "metadata": {
        "id": "5r73WiSfODe0"
      }
    },
    {
      "cell_type": "code",
      "source": [
        "a= 200\n",
        "b= 33\n",
        "c= 500\n",
        "\n",
        "if a>b and c>a:\n",
        "  print(\"Both Condtion are True\")"
      ],
      "metadata": {
        "colab": {
          "base_uri": "https://localhost:8080/"
        },
        "id": "qHxOxIb-OG8_",
        "outputId": "05da9e5c-c9d5-40fe-9fc1-676b5bccc5bc"
      },
      "execution_count": 78,
      "outputs": [
        {
          "output_type": "stream",
          "name": "stdout",
          "text": [
            "Both Condtion are True\n"
          ]
        }
      ]
    },
    {
      "cell_type": "markdown",
      "source": [
        "Or-at least one of the Conditios is true"
      ],
      "metadata": {
        "id": "Mg73YyEXOWok"
      }
    },
    {
      "cell_type": "code",
      "source": [
        "a= 200\n",
        "b= 33\n",
        "c= 500\n",
        "if a>b or a>c:\n",
        "  print(\"At least one of the Condtions is True\")"
      ],
      "metadata": {
        "colab": {
          "base_uri": "https://localhost:8080/"
        },
        "id": "BCB-ok5iObPM",
        "outputId": "b1e3bb9b-e3e0-4e66-8e39-5b25a7ef2fc4"
      },
      "execution_count": 79,
      "outputs": [
        {
          "output_type": "stream",
          "name": "stdout",
          "text": [
            "At least one of the Condtions is True\n"
          ]
        }
      ]
    },
    {
      "cell_type": "markdown",
      "source": [
        "Nested If Else"
      ],
      "metadata": {
        "id": "HeW6u8wsPjGu"
      }
    },
    {
      "cell_type": "code",
      "source": [
        "x=float(input(\"Enter Number: \"))\n",
        "\n",
        "if x>10:\n",
        "  print(\"Above Ten\")\n",
        "  if x>20:\n",
        "    print(\"Above Twenty\")\n",
        "    if x>30:\n",
        "      print(\"Above Thirty\")\n",
        "      if x>40:\n",
        "        print(\"Above Fourty\")\n",
        "        if x>50:\n",
        "          print(\"Above fifty\")\n",
        "        else:\n",
        "          print(\"Below fifty\")\n",
        "      else:\n",
        "        print(\"Below Fourty\")\n",
        "    else:\n",
        "      print(\"Below Thirty\")\n",
        "  else:\n",
        "    print(\"Below Twenty\")\n",
        "else:\n",
        "  print(\"Below Ten\")"
      ],
      "metadata": {
        "colab": {
          "base_uri": "https://localhost:8080/"
        },
        "id": "Hk-mITOOPnQo",
        "outputId": "d474252c-f4f6-4e4c-d3f6-5a6463936898"
      },
      "execution_count": 110,
      "outputs": [
        {
          "output_type": "stream",
          "name": "stdout",
          "text": [
            "Enter Number: 60\n",
            "Above Ten\n",
            "Above Twenty\n",
            "Above Thirty\n",
            "Above Fourty\n",
            "Above fifty\n"
          ]
        }
      ]
    },
    {
      "cell_type": "markdown",
      "source": [
        "EXAMPLE 1"
      ],
      "metadata": {
        "id": "zJIWZGYpXO9o"
      }
    },
    {
      "cell_type": "code",
      "source": [
        "a=float(input(\"Enter your Age: \"))\n",
        "\n",
        "if a>= 18:\n",
        "  print(\"You are qualified to Vote\")\n",
        "else:\n",
        "  print(\"You are not qualified to vote\")"
      ],
      "metadata": {
        "colab": {
          "base_uri": "https://localhost:8080/"
        },
        "id": "d5IKJ72xXRhC",
        "outputId": "06234f27-c4f5-4330-97e6-3908ce42b36f"
      },
      "execution_count": 126,
      "outputs": [
        {
          "output_type": "stream",
          "name": "stdout",
          "text": [
            "Enter your Age: 18\n",
            "You are qualified to Vote\n"
          ]
        }
      ]
    },
    {
      "cell_type": "markdown",
      "source": [
        "EXAMPLE 2"
      ],
      "metadata": {
        "id": "cf0EBAqdYKPe"
      }
    },
    {
      "cell_type": "code",
      "source": [
        "b=float(input(\"Enter a number: \"))\n",
        "\n",
        "if b>0:\n",
        "  print(\"The number is postive\")\n",
        "elif b==0:\n",
        "  print(\"The number is Zero\")\n",
        "else:\n",
        "  print(\"The number is negative\")"
      ],
      "metadata": {
        "colab": {
          "base_uri": "https://localhost:8080/"
        },
        "id": "zcamDDP4YMAq",
        "outputId": "d888112f-f722-4ca4-ab05-39b362e42e6d"
      },
      "execution_count": 127,
      "outputs": [
        {
          "output_type": "stream",
          "name": "stdout",
          "text": [
            "Enter a number: 12\n",
            "The number is postive\n"
          ]
        }
      ]
    },
    {
      "cell_type": "markdown",
      "source": [
        "EXAMPLE 3"
      ],
      "metadata": {
        "id": "OqmYK6uDY4nw"
      }
    },
    {
      "cell_type": "code",
      "source": [
        "c=float(input(\"Enter your Grade: \"))\n",
        "\n",
        "if c>=75:\n",
        "  print(\"Passed\")\n",
        "elif c==74:\n",
        "  print(\"Remedial\")\n",
        "else:\n",
        "  print(\"Failed\")"
      ],
      "metadata": {
        "colab": {
          "base_uri": "https://localhost:8080/"
        },
        "id": "n6ufAII_Y6Xq",
        "outputId": "e3143ae1-3d72-4b65-d8c4-e41220a208cc"
      },
      "execution_count": 132,
      "outputs": [
        {
          "output_type": "stream",
          "name": "stdout",
          "text": [
            "Enter your Grade: 80\n",
            "Passed\n"
          ]
        }
      ]
    }
  ]
}