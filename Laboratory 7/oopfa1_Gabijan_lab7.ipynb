{
  "nbformat": 4,
  "nbformat_minor": 0,
  "metadata": {
    "colab": {
      "provenance": [],
      "authorship_tag": "ABX9TyNFe0AoRpQqZLkWrSHgOBa1",
      "include_colab_link": true
    },
    "kernelspec": {
      "name": "python3",
      "display_name": "Python 3"
    },
    "language_info": {
      "name": "python"
    }
  },
  "cells": [
    {
      "cell_type": "markdown",
      "metadata": {
        "id": "view-in-github",
        "colab_type": "text"
      },
      "source": [
        "<a href=\"https://colab.research.google.com/github/Rhovic-Gabijan/CPE-103-OOP-1-A/blob/main/oopfa1_Gabijan_lab7.ipynb\" target=\"_parent\"><img src=\"https://colab.research.google.com/assets/colab-badge.svg\" alt=\"Open In Colab\"/></a>"
      ]
    },
    {
      "cell_type": "code",
      "execution_count": 2,
      "metadata": {
        "colab": {
          "base_uri": "https://localhost:8080/"
        },
        "id": "CrzHleq5EfOy",
        "outputId": "9c3485a9-33b5-43fa-d696-16692c8cffae"
      },
      "outputs": [
        {
          "output_type": "stream",
          "name": "stdout",
          "text": [
            "Enter feet and inches of distance 1: 5 82\n",
            "Enter feet and inches of distance 2: 6 64\n",
            "Distance 2 is greater or equal to Distance 1\n",
            "Sum of the two Distance is:\n",
            "Feet= 12 Inches= 134\n"
          ]
        }
      ],
      "source": [
        "#distance is a class. Distance is measured in terms of feet and inches\n",
        "class Distance:\n",
        "    def __init__(self, f, i):\n",
        "        self.feet = f\n",
        "        self.inches = i\n",
        "\n",
        "    #Overloading binary operator > to compare two distances\n",
        "    def __gt__(self, d):\n",
        "        if(self.feet>d.feet):\n",
        "            return (True)\n",
        "        elif((self.feet==d.feet)and (self.inches>d.inches)):\n",
        "            return (True)\n",
        "        else:\n",
        "            return (False)\n",
        "\n",
        "    #overloading of binary operator + to add two distances\n",
        "    def __add__(self, d):\n",
        "        i =self.inches+d.inches\n",
        "        f =self.feet+d.feet\n",
        "        if(i>=12):\n",
        "            i=i-12\n",
        "            f=f+1\n",
        "        return Distance(f,i)\n",
        "\n",
        "    #displaying the distance\n",
        "    def show(self):\n",
        "        print(\"Feet=\", self.feet, \"Inches=\",self.inches)\n",
        "\n",
        "if __name__ == '__main__':\n",
        "    a,b = (input(\"Enter feet and inches of distance 1: \")).split()\n",
        "    a,b = [int(a), int(b)]\n",
        "    c,d = (input(\"Enter feet and inches of distance 2: \")).split()\n",
        "    c,d = [int(c), int(d)]\n",
        "    d1 = Distance(a,b)\n",
        "    d2 = Distance(c,d)\n",
        "\n",
        "    if(d1>d2):\n",
        "        print(\"Distance 1 is greater than Distance 2\")\n",
        "    else:\n",
        "        print(\"Distance 2 is greater or equal to Distance 1\")\n",
        "    d3 = d1+d2\n",
        "    print(\"Sum of the two Distance is:\")\n",
        "    d3.show()"
      ]
    },
    {
      "cell_type": "markdown",
      "source": [
        "Polymorphism_b"
      ],
      "metadata": {
        "id": "nCCkYccFx6Ij"
      }
    },
    {
      "cell_type": "code",
      "source": [
        "class RegularPolygon:\n",
        "    def __init__(self, side):\n",
        "        self._side = side\n",
        "\n",
        "class Square(RegularPolygon):\n",
        "    def area(self):\n",
        "        return self._side* self._side\n",
        "\n",
        "class EquilateralTriangle(RegularPolygon):\n",
        "    def area(self):\n",
        "        return self._side*self._side*0.433\n",
        "\n",
        "obj1 = Square(4)\n",
        "obj2 = EquilateralTriangle(3)\n",
        "\n",
        "print(obj1.area())\n",
        "print(obj2.area())"
      ],
      "metadata": {
        "colab": {
          "base_uri": "https://localhost:8080/"
        },
        "id": "pI_Wa_8_yCBm",
        "outputId": "9c00e0a2-a1e1-4b83-fc64-3ea721bf8dc3"
      },
      "execution_count": 4,
      "outputs": [
        {
          "output_type": "stream",
          "name": "stdout",
          "text": [
            "16\n",
            "3.897\n"
          ]
        }
      ]
    },
    {
      "cell_type": "markdown",
      "source": [
        "Supplementary Activity"
      ],
      "metadata": {
        "id": "Ruge99p8_gBH"
      }
    },
    {
      "cell_type": "code",
      "source": [
        "import math\n",
        "class RegularPolygon:\n",
        "    def __init__(self, side):\n",
        "        self._side = side\n",
        "\n",
        "class Square(RegularPolygon):\n",
        "    def area(self):\n",
        "        return self._side* self._side\n",
        "\n",
        "class EquilateralTriangle(RegularPolygon):\n",
        "    def area(self):\n",
        "        return self._side*self._side*0.433\n",
        "\n",
        "class Hexagon(RegularPolygon):\n",
        "    def area(self):\n",
        "        return (self._side*self._side)*2.598\n",
        "\n",
        "class Circle(RegularPolygon):\n",
        "    def area(self):\n",
        "        return math.pi*(self._side**2)\n",
        "\n",
        "class Rectangle(RegularPolygon):\n",
        "    def __init__(self, side, side2):\n",
        "        super().__init__(side)\n",
        "        self._side2 = side2\n",
        "    def area(self):\n",
        "        return self._side*self._side2\n",
        "\n",
        "\n",
        "obj1 = Square(4)\n",
        "obj2 = EquilateralTriangle(3)\n",
        "obj3 = Hexagon(7)\n",
        "obj4 = Circle(4)\n",
        "obj5 = Rectangle(9, 6)\n",
        "\n",
        "print(\"The area of Square:               \", obj1.area())\n",
        "print(\"The area of Equilateral Triangele:\", obj2.area())\n",
        "print(\"The area of Hexagon:              \", obj3.area())\n",
        "print(\"The area of Circle:               \", obj4.area())\n",
        "print(\"The area of Rectangle:            \", obj5.area())"
      ],
      "metadata": {
        "colab": {
          "base_uri": "https://localhost:8080/"
        },
        "id": "j_KeTV7C_inK",
        "outputId": "3e25f414-f189-4f79-e07a-a116d9b4cc2e"
      },
      "execution_count": 7,
      "outputs": [
        {
          "output_type": "stream",
          "name": "stdout",
          "text": [
            "The area of Square:                16\n",
            "The area of Equilateral Triangele: 3.897\n",
            "The area of Hexagon:               127.30199999999999\n",
            "The area of Circle:                50.26548245743669\n",
            "The area of Rectangle:             54\n"
          ]
        }
      ]
    }
  ]
}